{
 "cells": [
  {
   "cell_type": "code",
   "execution_count": 7,
   "metadata": {},
   "outputs": [
    {
     "name": "stdout",
     "output_type": "stream",
     "text": [
      "Translated: ['Agus is a good child', \"Mira's evil son\"]\n",
      "TextBlob Correction: [TextBlob(\"Us is a good child\"), TextBlob(\"Fire's evil son\")]\n",
      "Sentiment Scores: [0.7, -1.0]\n"
     ]
    }
   ],
   "source": [
    "from googletrans import Translator\n",
    "from textblob import TextBlob\n",
    "# Inisialisasi Translator\n",
    "translator = Translator()\n",
    "\n",
    "# Dataset dalam bentuk list\n",
    "df = [\"agus anak baik\", \"mira anak jahat\"]  # Gunakan list dengan tanda []\n",
    "\n",
    "# Menerjemahkan setiap teks dalam list\n",
    "translated_df = [translator.translate(text, dest='en').text for text in df]\n",
    "textblob_results = [TextBlob(text).correct() for text in translated_df]\n",
    "sentiment_scores = [blob.sentiment.polarity for blob in textblob_results]\n",
    "\n",
    "print(\"Translated:\", translated_df)  # Output: ['Agus is a good child', 'Mira is a bad child']\n",
    "print(\"TextBlob Correction:\", textblob_results)\n",
    "print(\"Sentiment Scores:\", sentiment_scores)\n"
   ]
  },
  {
   "cell_type": "code",
   "execution_count": 5,
   "metadata": {},
   "outputs": [],
   "source": [
    "import pandas as pd\n",
    "import numpy as np\n",
    "import re\n",
    "import string\n",
    "import matplotlib.pyplot as plt\n",
    "import seaborn as sns\n",
    "\n",
    "from sklearn.model_selection import train_test_split\n",
    "from sklearn.metrics import classification_report, confusion_matrix\n",
    "\n",
    "import tensorflow as tf\n",
    "from tensorflow.keras.preprocessing.text import Tokenizer\n",
    "from tensorflow.keras.preprocessing.sequence import pad_sequences\n",
    "from tensorflow.keras.models import Sequential\n",
    "from tensorflow.keras.layers import Embedding, LSTM, Dense, Dropout\n",
    "\n",
    "import nltk\n",
    "#nltk.download('stopwords')\n",
    "from nltk.corpus import stopwords\n"
   ]
  },
  {
   "cell_type": "code",
   "execution_count": 9,
   "metadata": {},
   "outputs": [
    {
     "data": {
      "text/html": [
       "<div>\n",
       "<style scoped>\n",
       "    .dataframe tbody tr th:only-of-type {\n",
       "        vertical-align: middle;\n",
       "    }\n",
       "\n",
       "    .dataframe tbody tr th {\n",
       "        vertical-align: top;\n",
       "    }\n",
       "\n",
       "    .dataframe thead th {\n",
       "        text-align: right;\n",
       "    }\n",
       "</style>\n",
       "<table border=\"1\" class=\"dataframe\">\n",
       "  <thead>\n",
       "    <tr style=\"text-align: right;\">\n",
       "      <th></th>\n",
       "      <th>full_text</th>\n",
       "    </tr>\n",
       "  </thead>\n",
       "  <tbody>\n",
       "    <tr>\n",
       "      <th>0</th>\n",
       "      <td>@heathengangs Mulai membaikmi fashion sense mu...</td>\n",
       "    </tr>\n",
       "    <tr>\n",
       "      <th>1</th>\n",
       "      <td>@chiseiyuu @21of12 dia satria mahatir ver jemb...</td>\n",
       "    </tr>\n",
       "    <tr>\n",
       "      <th>2</th>\n",
       "      <td>@nativora @manukacaramel Udah di posting si sa...</td>\n",
       "    </tr>\n",
       "    <tr>\n",
       "      <th>3</th>\n",
       "      <td>knp sih dia demen bgt pake hoodie gaya satria ...</td>\n",
       "    </tr>\n",
       "    <tr>\n",
       "      <th>4</th>\n",
       "      <td>@deduys kembaran satria mahatir ditolak sp yg ...</td>\n",
       "    </tr>\n",
       "  </tbody>\n",
       "</table>\n",
       "</div>"
      ],
      "text/plain": [
       "                                           full_text\n",
       "0  @heathengangs Mulai membaikmi fashion sense mu...\n",
       "1  @chiseiyuu @21of12 dia satria mahatir ver jemb...\n",
       "2  @nativora @manukacaramel Udah di posting si sa...\n",
       "3  knp sih dia demen bgt pake hoodie gaya satria ...\n",
       "4  @deduys kembaran satria mahatir ditolak sp yg ..."
      ]
     },
     "execution_count": 9,
     "metadata": {},
     "output_type": "execute_result"
    }
   ],
   "source": [
    "df = pd.read_csv(\"Scrapping.csv\", sep=';')\n",
    "df = df[['full_text']] \n",
    "df.dropna(inplace=True)\n",
    "df.drop_duplicates(inplace=True)\n",
    "df.head()"
   ]
  },
  {
   "cell_type": "code",
   "execution_count": 1,
   "metadata": {},
   "outputs": [
    {
     "name": "stdout",
     "output_type": "stream",
     "text": [
      "Translated 50 rows... sleeping 5 seconds.\n",
      "Translated 100 rows... sleeping 5 seconds.\n",
      "Translated 150 rows... sleeping 5 seconds.\n",
      "Translated 200 rows... sleeping 5 seconds.\n",
      "Translated 250 rows... sleeping 5 seconds.\n",
      "Translated 300 rows... sleeping 5 seconds.\n",
      "Translated 350 rows... sleeping 5 seconds.\n",
      "Translated 400 rows... sleeping 5 seconds.\n",
      "Translated 450 rows... sleeping 5 seconds.\n",
      "Translated 500 rows... sleeping 5 seconds.\n",
      "Translated 550 rows... sleeping 5 seconds.\n",
      "Translated 600 rows... sleeping 5 seconds.\n",
      "Translated 650 rows... sleeping 5 seconds.\n",
      "Translated 700 rows... sleeping 5 seconds.\n",
      "Translated 750 rows... sleeping 5 seconds.\n",
      "Translated 800 rows... sleeping 5 seconds.\n",
      "Translated 850 rows... sleeping 5 seconds.\n",
      "Translated 900 rows... sleeping 5 seconds.\n",
      "Translated 950 rows... sleeping 5 seconds.\n",
      "Translated 1000 rows... sleeping 5 seconds.\n",
      "Translated 1050 rows... sleeping 5 seconds.\n",
      "Translated 1100 rows... sleeping 5 seconds.\n",
      "Translated 1150 rows... sleeping 5 seconds.\n",
      "Translated 1200 rows... sleeping 5 seconds.\n",
      "Translated 1250 rows... sleeping 5 seconds.\n",
      "Translated 1300 rows... sleeping 5 seconds.\n",
      "Translated 1350 rows... sleeping 5 seconds.\n",
      "Translated 1400 rows... sleeping 5 seconds.\n",
      "Translated 1450 rows... sleeping 5 seconds.\n",
      "Translated 1550 rows... sleeping 5 seconds.\n",
      "Translated 1600 rows... sleeping 5 seconds.\n",
      "Translated 1650 rows... sleeping 5 seconds.\n",
      "Translated 1700 rows... sleeping 5 seconds.\n",
      "Translated 1750 rows... sleeping 5 seconds.\n",
      "Terjemahan selesai! Dataset disimpan sebagai 'Translated_Scrapping.csv'.\n"
     ]
    }
   ],
   "source": [
    "import pandas as pd\n",
    "import re\n",
    "import time\n",
    "from nltk.corpus import stopwords\n",
    "from deep_translator import GoogleTranslator\n",
    "\n",
    "# Membaca dataset\n",
    "df = pd.read_csv(\"Scrapping.csv\", sep=';')\n",
    "df = df[['full_text']]  \n",
    "df.dropna(inplace=True)\n",
    "df.drop_duplicates(inplace=True)\n",
    "\n",
    "# Inisialisasi stopwords\n",
    "stop_words = set(stopwords.words('indonesian'))\n",
    "\n",
    "# Fungsi membersihkan teks\n",
    "def clean_text(text):\n",
    "    text = text.lower()\n",
    "    text = re.sub(r\"http\\S+\", \"\", text)\n",
    "    text = re.sub(r\"@\\w+\", \"\", text)\n",
    "    text = re.sub(r\"#\\w+\", \"\", text)\n",
    "    text = re.sub(r\"[^\\w\\s]\", \"\", text)\n",
    "    text = re.sub(r\"\\d+\", \"\", text)\n",
    "    text = text.strip()\n",
    "    text = \" \".join([word for word in text.split() if word not in stop_words])\n",
    "    return text\n",
    "\n",
    "df['clean_text'] = df['full_text'].apply(clean_text)\n",
    "\n",
    "# Fungsi translate dengan error handling\n",
    "def translate_text(text):\n",
    "    try:\n",
    "        return GoogleTranslator(source='auto', target='en').translate(text)\n",
    "    except Exception as e:\n",
    "        print(f\"Error: {e}\")\n",
    "        return text\n",
    "\n",
    "# Inisialisasi kolom hasil translate\n",
    "translated = []\n",
    "\n",
    "# Proses per baris + delay tiap 50 baris\n",
    "for i, row in df.iterrows():\n",
    "    text = row['clean_text']\n",
    "    if isinstance(text, str) and text.strip() != \"\":\n",
    "        translated_text = translate_text(text)\n",
    "    else:\n",
    "        translated_text = \"\"\n",
    "    translated.append(translated_text)\n",
    "    \n",
    "    # Delay tiap 50 baris\n",
    "    if (i + 1) % 50 == 0:\n",
    "        print(f\"Translated {i+1} rows... sleeping 5 seconds.\")\n",
    "        time.sleep(5)\n",
    "\n",
    "# Tambahkan hasil ke DataFrame\n",
    "df['translated_text'] = translated\n",
    "\n",
    "# Simpan hasil\n",
    "df.to_csv(\"Translated_Scrapping.csv\", index=False)\n",
    "\n",
    "print(\"Terjemahan selesai! Dataset disimpan sebagai 'Translated_Scrapping.csv'.\")\n"
   ]
  },
  {
   "cell_type": "code",
   "execution_count": 3,
   "metadata": {},
   "outputs": [
    {
     "data": {
      "text/html": [
       "<div>\n",
       "<style scoped>\n",
       "    .dataframe tbody tr th:only-of-type {\n",
       "        vertical-align: middle;\n",
       "    }\n",
       "\n",
       "    .dataframe tbody tr th {\n",
       "        vertical-align: top;\n",
       "    }\n",
       "\n",
       "    .dataframe thead th {\n",
       "        text-align: right;\n",
       "    }\n",
       "</style>\n",
       "<table border=\"1\" class=\"dataframe\">\n",
       "  <thead>\n",
       "    <tr style=\"text-align: right;\">\n",
       "      <th></th>\n",
       "      <th>full_text</th>\n",
       "      <th>clean_text</th>\n",
       "      <th>translated_text</th>\n",
       "      <th>label</th>\n",
       "    </tr>\n",
       "  </thead>\n",
       "  <tbody>\n",
       "    <tr>\n",
       "      <th>0</th>\n",
       "      <td>@heathengangs Mulai membaikmi fashion sense mu...</td>\n",
       "      <td>membaikmi fashion sense mu mmg nda berkiblat s...</td>\n",
       "      <td>Improve your fashion sense mmg mmg and the rib...</td>\n",
       "      <td>neutral</td>\n",
       "    </tr>\n",
       "    <tr>\n",
       "      <th>1</th>\n",
       "      <td>@chiseiyuu @21of12 dia satria mahatir ver jemb...</td>\n",
       "      <td>satria mahatir ver jember cin</td>\n",
       "      <td>Satria Mahatir Ver Jember Cin</td>\n",
       "      <td>neutral</td>\n",
       "    </tr>\n",
       "    <tr>\n",
       "      <th>2</th>\n",
       "      <td>@nativora @manukacaramel Udah di posting si sa...</td>\n",
       "      <td>udah posting si satria mahatir</td>\n",
       "      <td>Already posted the Satria Mahatir</td>\n",
       "      <td>neutral</td>\n",
       "    </tr>\n",
       "    <tr>\n",
       "      <th>3</th>\n",
       "      <td>knp sih dia demen bgt pake hoodie gaya satria ...</td>\n",
       "      <td>knp sih demen bgt pake hoodie gaya satria mahatir</td>\n",
       "      <td>why is it really like using the hoodie style o...</td>\n",
       "      <td>positive</td>\n",
       "    </tr>\n",
       "    <tr>\n",
       "      <th>4</th>\n",
       "      <td>@deduys kembaran satria mahatir ditolak sp yg ...</td>\n",
       "      <td>kembaran satria mahatir ditolak sp yg ga kaget...</td>\n",
       "      <td>Kembatan Satria Mahatir was rejected SP who wa...</td>\n",
       "      <td>negative</td>\n",
       "    </tr>\n",
       "  </tbody>\n",
       "</table>\n",
       "</div>"
      ],
      "text/plain": [
       "                                           full_text  \\\n",
       "0  @heathengangs Mulai membaikmi fashion sense mu...   \n",
       "1  @chiseiyuu @21of12 dia satria mahatir ver jemb...   \n",
       "2  @nativora @manukacaramel Udah di posting si sa...   \n",
       "3  knp sih dia demen bgt pake hoodie gaya satria ...   \n",
       "4  @deduys kembaran satria mahatir ditolak sp yg ...   \n",
       "\n",
       "                                          clean_text  \\\n",
       "0  membaikmi fashion sense mu mmg nda berkiblat s...   \n",
       "1                      satria mahatir ver jember cin   \n",
       "2                     udah posting si satria mahatir   \n",
       "3  knp sih demen bgt pake hoodie gaya satria mahatir   \n",
       "4  kembaran satria mahatir ditolak sp yg ga kaget...   \n",
       "\n",
       "                                     translated_text     label  \n",
       "0  Improve your fashion sense mmg mmg and the rib...   neutral  \n",
       "1                      Satria Mahatir Ver Jember Cin   neutral  \n",
       "2                  Already posted the Satria Mahatir   neutral  \n",
       "3  why is it really like using the hoodie style o...  positive  \n",
       "4  Kembatan Satria Mahatir was rejected SP who wa...  negative  "
      ]
     },
     "execution_count": 3,
     "metadata": {},
     "output_type": "execute_result"
    }
   ],
   "source": [
    "# Simulasi label (ubah dengan label asli kamu!)\n",
    "# 1: positif, 0: netral, -1: negatif\n",
    "#df['label'] = np.random.choice([1, 0, -1], size=len(df))  \n",
    "\n",
    "import pandas as pd\n",
    "from textblob import TextBlob\n",
    "\n",
    "# Membaca dataset\n",
    "df = pd.read_csv(\"Translated_Scrapping.csv\")\n",
    "\n",
    "# Fungsi untuk menentukan label sentimen\n",
    "def get_sentiment(text):\n",
    "    if isinstance(text, str) and text.strip() != \"\":\n",
    "        analysis = TextBlob(text)\n",
    "        polarity = analysis.sentiment.polarity\n",
    "        if polarity > 0:\n",
    "            return \"positive\"\n",
    "        elif polarity < 0:\n",
    "            return \"negative\"\n",
    "        else:\n",
    "            return \"neutral\"\n",
    "    else:\n",
    "        return \"neutral\"\n",
    "\n",
    "# Terapkan ke kolom\n",
    "df['label'] = df['translated_text'].apply(get_sentiment)\n",
    "\n",
    "# Simpan hasil\n",
    "#df.to_csv(\"Labeled_Sentiment.csv\", index=False)\n",
    "\n",
    "#print(\"Sentimen selesai dilabeli! Dataset disimpan sebagai 'Labeled_Sentiment.csv'.\")\n",
    "df.head()"
   ]
  },
  {
   "cell_type": "code",
   "execution_count": 9,
   "metadata": {},
   "outputs": [],
   "source": [
    "MAX_NUM_WORDS = 10000\n",
    "MAX_SEQUENCE_LENGTH = 100\n",
    "EMBEDDING_DIM = 100\n",
    "\n",
    "# Pastikan kolom clean_text adalah string dan tidak kosong\n",
    "df['clean_text'] = df['clean_text'].astype(str)\n",
    "df = df[df['clean_text'].str.strip() != '']\n",
    "\n",
    "# Tokenizer\n",
    "tokenizer = Tokenizer(num_words=MAX_NUM_WORDS)\n",
    "tokenizer.fit_on_texts(df['clean_text'])\n",
    "\n",
    "# Tokenizing\n",
    "sequences = tokenizer.texts_to_sequences(df['clean_text'])\n",
    "word_index = tokenizer.word_index\n",
    "\n",
    "# Padding\n",
    "X = pad_sequences(sequences, maxlen=MAX_SEQUENCE_LENGTH)\n",
    "\n",
    "# One-hot label\n",
    "y = pd.get_dummies(df['label']).values\n"
   ]
  },
  {
   "cell_type": "code",
   "execution_count": 12,
   "metadata": {},
   "outputs": [
    {
     "data": {
      "text/plain": [
       "label\n",
       "neutral     1052\n",
       "positive     382\n",
       "negative     265\n",
       "Name: count, dtype: int64"
      ]
     },
     "execution_count": 12,
     "metadata": {},
     "output_type": "execute_result"
    }
   ],
   "source": [
    "from sklearn.model_selection import train_test_split\n",
    "\n",
    "X_train, X_test, y_train, y_test = train_test_split(\n",
    "    X, y, test_size=0.2, random_state=42, stratify=y\n",
    ")\n",
    "df['label'].value_counts()\n"
   ]
  },
  {
   "cell_type": "code",
   "execution_count": 13,
   "metadata": {},
   "outputs": [
    {
     "name": "stderr",
     "output_type": "stream",
     "text": [
      "C:\\Users\\Nettaanell D\\AppData\\Roaming\\Python\\Python310\\site-packages\\keras\\src\\layers\\core\\embedding.py:90: UserWarning: Argument `input_length` is deprecated. Just remove it.\n",
      "  warnings.warn(\n"
     ]
    },
    {
     "data": {
      "text/html": [
       "<pre style=\"white-space:pre;overflow-x:auto;line-height:normal;font-family:Menlo,'DejaVu Sans Mono',consolas,'Courier New',monospace\"><span style=\"font-weight: bold\">Model: \"sequential\"</span>\n",
       "</pre>\n"
      ],
      "text/plain": [
       "\u001b[1mModel: \"sequential\"\u001b[0m\n"
      ]
     },
     "metadata": {},
     "output_type": "display_data"
    },
    {
     "data": {
      "text/html": [
       "<pre style=\"white-space:pre;overflow-x:auto;line-height:normal;font-family:Menlo,'DejaVu Sans Mono',consolas,'Courier New',monospace\">┏━━━━━━━━━━━━━━━━━━━━━━━━━━━━━━━━━┳━━━━━━━━━━━━━━━━━━━━━━━━┳━━━━━━━━━━━━━━━┓\n",
       "┃<span style=\"font-weight: bold\"> Layer (type)                    </span>┃<span style=\"font-weight: bold\"> Output Shape           </span>┃<span style=\"font-weight: bold\">       Param # </span>┃\n",
       "┡━━━━━━━━━━━━━━━━━━━━━━━━━━━━━━━━━╇━━━━━━━━━━━━━━━━━━━━━━━━╇━━━━━━━━━━━━━━━┩\n",
       "│ embedding (<span style=\"color: #0087ff; text-decoration-color: #0087ff\">Embedding</span>)           │ (<span style=\"color: #00d7ff; text-decoration-color: #00d7ff\">None</span>, <span style=\"color: #00af00; text-decoration-color: #00af00\">100</span>, <span style=\"color: #00af00; text-decoration-color: #00af00\">100</span>)       │     <span style=\"color: #00af00; text-decoration-color: #00af00\">1,000,000</span> │\n",
       "├─────────────────────────────────┼────────────────────────┼───────────────┤\n",
       "│ lstm (<span style=\"color: #0087ff; text-decoration-color: #0087ff\">LSTM</span>)                     │ (<span style=\"color: #00d7ff; text-decoration-color: #00d7ff\">None</span>, <span style=\"color: #00af00; text-decoration-color: #00af00\">128</span>)            │       <span style=\"color: #00af00; text-decoration-color: #00af00\">117,248</span> │\n",
       "├─────────────────────────────────┼────────────────────────┼───────────────┤\n",
       "│ dense (<span style=\"color: #0087ff; text-decoration-color: #0087ff\">Dense</span>)                   │ (<span style=\"color: #00d7ff; text-decoration-color: #00d7ff\">None</span>, <span style=\"color: #00af00; text-decoration-color: #00af00\">3</span>)              │           <span style=\"color: #00af00; text-decoration-color: #00af00\">387</span> │\n",
       "└─────────────────────────────────┴────────────────────────┴───────────────┘\n",
       "</pre>\n"
      ],
      "text/plain": [
       "┏━━━━━━━━━━━━━━━━━━━━━━━━━━━━━━━━━┳━━━━━━━━━━━━━━━━━━━━━━━━┳━━━━━━━━━━━━━━━┓\n",
       "┃\u001b[1m \u001b[0m\u001b[1mLayer (type)                   \u001b[0m\u001b[1m \u001b[0m┃\u001b[1m \u001b[0m\u001b[1mOutput Shape          \u001b[0m\u001b[1m \u001b[0m┃\u001b[1m \u001b[0m\u001b[1m      Param #\u001b[0m\u001b[1m \u001b[0m┃\n",
       "┡━━━━━━━━━━━━━━━━━━━━━━━━━━━━━━━━━╇━━━━━━━━━━━━━━━━━━━━━━━━╇━━━━━━━━━━━━━━━┩\n",
       "│ embedding (\u001b[38;5;33mEmbedding\u001b[0m)           │ (\u001b[38;5;45mNone\u001b[0m, \u001b[38;5;34m100\u001b[0m, \u001b[38;5;34m100\u001b[0m)       │     \u001b[38;5;34m1,000,000\u001b[0m │\n",
       "├─────────────────────────────────┼────────────────────────┼───────────────┤\n",
       "│ lstm (\u001b[38;5;33mLSTM\u001b[0m)                     │ (\u001b[38;5;45mNone\u001b[0m, \u001b[38;5;34m128\u001b[0m)            │       \u001b[38;5;34m117,248\u001b[0m │\n",
       "├─────────────────────────────────┼────────────────────────┼───────────────┤\n",
       "│ dense (\u001b[38;5;33mDense\u001b[0m)                   │ (\u001b[38;5;45mNone\u001b[0m, \u001b[38;5;34m3\u001b[0m)              │           \u001b[38;5;34m387\u001b[0m │\n",
       "└─────────────────────────────────┴────────────────────────┴───────────────┘\n"
      ]
     },
     "metadata": {},
     "output_type": "display_data"
    },
    {
     "data": {
      "text/html": [
       "<pre style=\"white-space:pre;overflow-x:auto;line-height:normal;font-family:Menlo,'DejaVu Sans Mono',consolas,'Courier New',monospace\"><span style=\"font-weight: bold\"> Total params: </span><span style=\"color: #00af00; text-decoration-color: #00af00\">1,117,635</span> (4.26 MB)\n",
       "</pre>\n"
      ],
      "text/plain": [
       "\u001b[1m Total params: \u001b[0m\u001b[38;5;34m1,117,635\u001b[0m (4.26 MB)\n"
      ]
     },
     "metadata": {},
     "output_type": "display_data"
    },
    {
     "data": {
      "text/html": [
       "<pre style=\"white-space:pre;overflow-x:auto;line-height:normal;font-family:Menlo,'DejaVu Sans Mono',consolas,'Courier New',monospace\"><span style=\"font-weight: bold\"> Trainable params: </span><span style=\"color: #00af00; text-decoration-color: #00af00\">1,117,635</span> (4.26 MB)\n",
       "</pre>\n"
      ],
      "text/plain": [
       "\u001b[1m Trainable params: \u001b[0m\u001b[38;5;34m1,117,635\u001b[0m (4.26 MB)\n"
      ]
     },
     "metadata": {},
     "output_type": "display_data"
    },
    {
     "data": {
      "text/html": [
       "<pre style=\"white-space:pre;overflow-x:auto;line-height:normal;font-family:Menlo,'DejaVu Sans Mono',consolas,'Courier New',monospace\"><span style=\"font-weight: bold\"> Non-trainable params: </span><span style=\"color: #00af00; text-decoration-color: #00af00\">0</span> (0.00 B)\n",
       "</pre>\n"
      ],
      "text/plain": [
       "\u001b[1m Non-trainable params: \u001b[0m\u001b[38;5;34m0\u001b[0m (0.00 B)\n"
      ]
     },
     "metadata": {},
     "output_type": "display_data"
    }
   ],
   "source": [
    "model = Sequential()\n",
    "model.add(Embedding(MAX_NUM_WORDS, EMBEDDING_DIM, input_length=MAX_SEQUENCE_LENGTH))\n",
    "model.add(LSTM(128, dropout=0.2, recurrent_dropout=0.2))\n",
    "model.add(Dense(3, activation='softmax'))  # 3 kelas: positif, netral, negatif\n",
    "\n",
    "model.compile(loss='categorical_crossentropy',\n",
    "              optimizer='adam',\n",
    "              metrics=['accuracy'])\n",
    "model.build(input_shape=(None, MAX_SEQUENCE_LENGTH))\n",
    "model.summary()\n"
   ]
  },
  {
   "cell_type": "code",
   "execution_count": 15,
   "metadata": {},
   "outputs": [
    {
     "name": "stdout",
     "output_type": "stream",
     "text": [
      "Epoch 1/11\n",
      "\u001b[1m11/11\u001b[0m \u001b[32m━━━━━━━━━━━━━━━━━━━━\u001b[0m\u001b[37m\u001b[0m \u001b[1m17s\u001b[0m 1s/step - accuracy: 0.8723 - loss: 0.4232 - val_accuracy: 0.6706 - val_loss: 0.7335\n",
      "Epoch 2/11\n",
      "\u001b[1m11/11\u001b[0m \u001b[32m━━━━━━━━━━━━━━━━━━━━\u001b[0m\u001b[37m\u001b[0m \u001b[1m20s\u001b[0m 1s/step - accuracy: 0.9022 - loss: 0.3002 - val_accuracy: 0.6647 - val_loss: 0.8164\n",
      "Epoch 3/11\n",
      "\u001b[1m11/11\u001b[0m \u001b[32m━━━━━━━━━━━━━━━━━━━━\u001b[0m\u001b[37m\u001b[0m \u001b[1m20s\u001b[0m 1s/step - accuracy: 0.9510 - loss: 0.1781 - val_accuracy: 0.6824 - val_loss: 0.8662\n",
      "Epoch 4/11\n",
      "\u001b[1m11/11\u001b[0m \u001b[32m━━━━━━━━━━━━━━━━━━━━\u001b[0m\u001b[37m\u001b[0m \u001b[1m22s\u001b[0m 2s/step - accuracy: 0.9627 - loss: 0.1363 - val_accuracy: 0.6912 - val_loss: 0.8986\n",
      "Epoch 5/11\n",
      "\u001b[1m11/11\u001b[0m \u001b[32m━━━━━━━━━━━━━━━━━━━━\u001b[0m\u001b[37m\u001b[0m \u001b[1m21s\u001b[0m 2s/step - accuracy: 0.9694 - loss: 0.1053 - val_accuracy: 0.6765 - val_loss: 1.0344\n",
      "Epoch 6/11\n",
      "\u001b[1m11/11\u001b[0m \u001b[32m━━━━━━━━━━━━━━━━━━━━\u001b[0m\u001b[37m\u001b[0m \u001b[1m21s\u001b[0m 2s/step - accuracy: 0.9780 - loss: 0.0669 - val_accuracy: 0.6882 - val_loss: 1.0663\n",
      "Epoch 7/11\n",
      "\u001b[1m11/11\u001b[0m \u001b[32m━━━━━━━━━━━━━━━━━━━━\u001b[0m\u001b[37m\u001b[0m \u001b[1m21s\u001b[0m 2s/step - accuracy: 0.9847 - loss: 0.0488 - val_accuracy: 0.7118 - val_loss: 1.1397\n",
      "Epoch 8/11\n",
      "\u001b[1m11/11\u001b[0m \u001b[32m━━━━━━━━━━━━━━━━━━━━\u001b[0m\u001b[37m\u001b[0m \u001b[1m20s\u001b[0m 2s/step - accuracy: 0.9928 - loss: 0.0362 - val_accuracy: 0.7000 - val_loss: 1.1834\n",
      "Epoch 9/11\n",
      "\u001b[1m11/11\u001b[0m \u001b[32m━━━━━━━━━━━━━━━━━━━━\u001b[0m\u001b[37m\u001b[0m \u001b[1m19s\u001b[0m 1s/step - accuracy: 0.9953 - loss: 0.0230 - val_accuracy: 0.6618 - val_loss: 1.2900\n",
      "Epoch 10/11\n",
      "\u001b[1m11/11\u001b[0m \u001b[32m━━━━━━━━━━━━━━━━━━━━\u001b[0m\u001b[37m\u001b[0m \u001b[1m22s\u001b[0m 2s/step - accuracy: 0.9913 - loss: 0.0296 - val_accuracy: 0.6882 - val_loss: 1.2666\n",
      "Epoch 11/11\n",
      "\u001b[1m11/11\u001b[0m \u001b[32m━━━━━━━━━━━━━━━━━━━━\u001b[0m\u001b[37m\u001b[0m \u001b[1m19s\u001b[0m 1s/step - accuracy: 0.9941 - loss: 0.0221 - val_accuracy: 0.6824 - val_loss: 1.2813\n"
     ]
    }
   ],
   "source": [
    "history = model.fit(X_train, y_train,\n",
    "                    epochs=11,\n",
    "                    batch_size=128,\n",
    "                    validation_data=(X_test, y_test))\n"
   ]
  },
  {
   "cell_type": "code",
   "execution_count": 49,
   "metadata": {},
   "outputs": [
    {
     "name": "stdout",
     "output_type": "stream",
     "text": [
      "Akurasi Test Set: 32.06%\n",
      "\u001b[1m11/11\u001b[0m \u001b[32m━━━━━━━━━━━━━━━━━━━━\u001b[0m\u001b[37m\u001b[0m \u001b[1m4s\u001b[0m 204ms/step\n",
      "              precision    recall  f1-score   support\n",
      "\n",
      "     Negatif       0.40      0.07      0.12       118\n",
      "      Netral       0.28      0.33      0.30       106\n",
      "     Positif       0.34      0.57      0.42       116\n",
      "\n",
      "    accuracy                           0.32       340\n",
      "   macro avg       0.34      0.32      0.28       340\n",
      "weighted avg       0.34      0.32      0.28       340\n",
      "\n"
     ]
    },
    {
     "data": {
      "image/png": "[encoded data removed]",
      "text/plain": [
       "<Figure size 640x480 with 2 Axes>"
      ]
     },
     "metadata": {},
     "output_type": "display_data"
    }
   ],
   "source": [
    "# Akurasi\n",
    "loss, accuracy = model.evaluate(X_test, y_test, verbose=0)\n",
    "print(f\"Akurasi Test Set: {accuracy * 100:.2f}%\")\n",
    "\n",
    "# Laporan klasifikasi\n",
    "y_pred = model.predict(X_test)\n",
    "y_pred_classes = np.argmax(y_pred, axis=1)\n",
    "y_true = np.argmax(y_test, axis=1)\n",
    "\n",
    "print(classification_report(y_true, y_pred_classes, target_names=['Negatif', 'Netral', 'Positif']))\n",
    "\n",
    "# Confusion Matrix\n",
    "cm = confusion_matrix(y_true, y_pred_classes)\n",
    "sns.heatmap(cm, annot=True, fmt='d', cmap='Blues', xticklabels=['Negatif', 'Netral', 'Positif'], yticklabels=['Negatif', 'Netral', 'Positif'])\n",
    "plt.xlabel(\"Predicted\")\n",
    "plt.ylabel(\"Actual\")\n",
    "plt.title(\"Confusion Matrix\")\n",
    "plt.show()\n"
   ]
  }
 ],
 "metadata": {
  "kernelspec": {
   "display_name": "Python 3",
   "language": "python",
   "name": "python3"
  },
  "language_info": {
   "codemirror_mode": {
    "name": "ipython",
    "version": 3
   },
   "file_extension": ".py",
   "mimetype": "text/x-python",
   "name": "python",
   "nbconvert_exporter": "python",
   "pygments_lexer": "ipython3",
   "version": "3.10.4"
  }
 },
 "nbformat": 4,
 "nbformat_minor": 2
}
