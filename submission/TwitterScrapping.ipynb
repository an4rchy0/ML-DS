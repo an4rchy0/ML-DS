{
  "cells": [
    {
      "cell_type": "code",
      "execution_count": 1,
      "metadata": {
        "id": "6S00x_f6-GeD"
      },
      "outputs": [],
      "source": [
        "twitter_auth_token = 'c849f8b8533e55e8ce7e3dfab6cae02443498428'"
      ]
    },
    {
      "cell_type": "code",
      "execution_count": null,
      "metadata": {
        "colab": {
          "base_uri": "https://localhost:8080/"
        },
        "collapsed": true,
        "id": "4UIL1x21P9rQ",
        "outputId": "95f8534a-b96b-4fba-99a5-470c52de8d24"
      },
      "outputs": [
        {
          "name": "stdout",
          "output_type": "stream",
          "text": [
            "Requirement already satisfied: pandas in /usr/local/lib/python3.11/dist-packages (2.2.2)\n",
            "Requirement already satisfied: numpy>=1.23.2 in /usr/local/lib/python3.11/dist-packages (from pandas) (2.0.2)\n",
            "Requirement already satisfied: python-dateutil>=2.8.2 in /usr/local/lib/python3.11/dist-packages (from pandas) (2.8.2)\n",
            "Requirement already satisfied: pytz>=2020.1 in /usr/local/lib/python3.11/dist-packages (from pandas) (2025.2)\n",
            "Requirement already satisfied: tzdata>=2022.7 in /usr/local/lib/python3.11/dist-packages (from pandas) (2025.2)\n",
            "Requirement already satisfied: six>=1.5 in /usr/local/lib/python3.11/dist-packages (from python-dateutil>=2.8.2->pandas) (1.17.0)\n",
            "Hit:1 https://developer.download.nvidia.com/compute/cuda/repos/ubuntu2204/x86_64  InRelease\n",
            "Hit:2 http://archive.ubuntu.com/ubuntu jammy InRelease\n",
            "Hit:3 https://cloud.r-project.org/bin/linux/ubuntu jammy-cran40/ InRelease\n",
            "Hit:4 https://deb.nodesource.com/node_20.x nodistro InRelease\n",
            "Hit:5 https://r2u.stat.illinois.edu/ubuntu jammy InRelease\n",
            "Get:6 http://archive.ubuntu.com/ubuntu jammy-updates InRelease [128 kB]\n",
            "Get:7 http://security.ubuntu.com/ubuntu jammy-security InRelease [129 kB]\n",
            "Hit:8 http://archive.ubuntu.com/ubuntu jammy-backports InRelease\n",
            "Hit:9 https://ppa.launchpadcontent.net/deadsnakes/ppa/ubuntu jammy InRelease\n",
            "Hit:10 https://ppa.launchpadcontent.net/graphics-drivers/ppa/ubuntu jammy InRelease\n",
            "Hit:11 https://ppa.launchpadcontent.net/ubuntugis/ppa/ubuntu jammy InRelease\n",
            "Get:12 http://archive.ubuntu.com/ubuntu jammy-updates/universe amd64 Packages [1,540 kB]\n",
            "Get:13 http://archive.ubuntu.com/ubuntu jammy-updates/main amd64 Packages [3,097 kB]\n",
            "Get:14 http://security.ubuntu.com/ubuntu jammy-security/main amd64 Packages [2,783 kB]\n",
            "Get:15 http://security.ubuntu.com/ubuntu jammy-security/restricted amd64 Packages [3,994 kB]\n",
            "Fetched 11.7 MB in 3s (3,492 kB/s)\n",
            "Reading package lists... Done\n",
            "W: Skipping acquire of configured file 'main/source/Sources' as repository 'https://r2u.stat.illinois.edu/ubuntu jammy InRelease' does not seem to provide it (sources.list entry misspelt?)\n",
            "Reading package lists... Done\n",
            "Building dependency tree... Done\n",
            "Reading state information... Done\n",
            "ca-certificates is already the newest version (20240203~22.04.1).\n",
            "curl is already the newest version (7.81.0-1ubuntu1.20).\n",
            "gnupg is already the newest version (2.2.27-3ubuntu2.3).\n",
            "0 upgraded, 0 newly installed, 0 to remove and 34 not upgraded.\n",
            "gpg: cannot open '/dev/tty': No such device or address\n",
            "curl: (23) Failed writing body\n",
            "deb [signed-by=/etc/apt/keyrings/nodesource.gpg] https://deb.nodesource.com/node_20.x nodistro main\n",
            "Hit:1 https://cloud.r-project.org/bin/linux/ubuntu jammy-cran40/ InRelease\n",
            "Hit:2 https://developer.download.nvidia.com/compute/cuda/repos/ubuntu2204/x86_64  InRelease\n",
            "Hit:3 https://deb.nodesource.com/node_20.x nodistro InRelease\n",
            "Hit:4 https://r2u.stat.illinois.edu/ubuntu jammy InRelease\n",
            "Ign:5 https://ppa.launchpadcontent.net/deadsnakes/ppa/ubuntu jammy InRelease\n",
            "Hit:6 https://ppa.launchpadcontent.net/graphics-drivers/ppa/ubuntu jammy InRelease\n",
            "Hit:7 https://ppa.launchpadcontent.net/ubuntugis/ppa/ubuntu jammy InRelease\n",
            "Hit:5 https://ppa.launchpadcontent.net/deadsnakes/ppa/ubuntu jammy InRelease\n",
            "Hit:8 http://security.ubuntu.com/ubuntu jammy-security InRelease\n",
            "Hit:9 http://archive.ubuntu.com/ubuntu jammy InRelease\n",
            "Hit:10 http://archive.ubuntu.com/ubuntu jammy-updates InRelease\n",
            "Hit:11 http://archive.ubuntu.com/ubuntu jammy-backports InRelease\n",
            "Reading package lists... Done\n",
            "W: Skipping acquire of configured file 'main/source/Sources' as repository 'https://r2u.stat.illinois.edu/ubuntu jammy InRelease' does not seem to provide it (sources.list entry misspelt?)\n",
            "Reading package lists... Done\n",
            "Building dependency tree... Done\n",
            "Reading state information... Done\n",
            "nodejs is already the newest version (20.19.0-1nodesource1).\n",
            "0 upgraded, 0 newly installed, 0 to remove and 34 not upgraded.\n",
            "v20.19.0\n"
          ]
        }
      ],
      "source": [
        "import pandas as pd\n",
        "\n",
        "!sudo apt-get update\n",
        "!sudo apt-get install -y ca-certificates curl gnupg\n",
        "!sudo mkdir -p /etc/apt/keyrings\n",
        "!curl -fsSL https://deb.nodesource.com/gpgkey/nodesource-repo.gpg.key | sudo gpg --dearmor -o /etc/apt/keyrings/nodesource.gpg\n",
        "\n",
        "!NODE_MAJOR=20 && echo \"deb [signed-by=/etc/apt/keyrings/nodesource.gpg] https://deb.nodesource.com/node_$NODE_MAJOR.x nodistro main\" | sudo tee /etc/apt/sources.list.d/nodesource.list\n",
        "\n",
        "!sudo apt-get update\n",
        "!sudo apt-get install nodejs -y\n",
        "\n",
        "!node -v"
      ]
    },
    {
      "cell_type": "code",
      "execution_count": null,
      "metadata": {
        "colab": {
          "base_uri": "https://localhost:8080/"
        },
        "id": "LYDR51dJlVlX",
        "outputId": "d5a90d3a-2da8-4cc5-fc37-291258444448"
      },
      "outputs": [
        {
          "name": "stdout",
          "output_type": "stream",
          "text": [
            "\u001b[1G\u001b[0K⠙\u001b[1G\u001b[0K⠹\u001b[1G\u001b[0K⠸\u001b[1G\u001b[0K⠼\u001b[1G\u001b[0K⠴\u001b[1G\u001b[0K\u001b[1m\u001b[32mTweet Harvest [v2.6.1]\u001b[39m\u001b[22m\n",
            "\u001b[1m\u001b[32m\u001b[39m\u001b[22m\n",
            "\u001b[34mResearch by \u001b[39m\u001b[1m\u001b[34mHelmi Satria\u001b[39m\u001b[22m\u001b[34m\u001b[39m\n",
            "\u001b[34mUse it for Educational Purposes only!\u001b[39m\n",
            "\u001b[34m\u001b[39m\n",
            "\u001b[33mThis script uses Chromium Browser to crawl data from Twitter with \u001b[1myour Twitter auth token\u001b[22m.\u001b[39m\n",
            "\u001b[33mPlease enter your Twitter auth token when prompted.\u001b[39m\n",
            "\u001b[33m\u001b[39m\n",
            "\u001b[31m\u001b[1mNote:\u001b[22m\u001b[39m Keep your access token secret! Don't share it with anyone else.\n",
            "\u001b[31m\u001b[1mNote:\u001b[22m\u001b[39m This script only runs on your local device.\n",
            "\n",
            "\u001b[34m\u001b[39m\n",
            "\u001b[34mOpening twitter search page...\u001b[39m\n",
            "\u001b[34m\u001b[39m\n",
            "\u001b[34m\u001b[39m\n",
            "\u001b[34mFound existing file ./tweets-data/exportFile1.csv, renaming to ./tweets-data/exportFile1.old.csv\u001b[39m\n",
            "\u001b[90m\u001b[39m\n",
            "\u001b[90m-- Scrolling... (1)\u001b[39m\u001b[33m\u001b[39m\n",
            "\u001b[33mFilling in keywords: satria mahatir hamil lang:id\u001b[39m\n",
            "\u001b[33m\u001b[39m\n",
            "\u001b[90m (2)\u001b[39m\u001b[90m (3)\u001b[39m\u001b[34m\u001b[39m\n",
            "\u001b[34m\u001b[39m\n",
            "\u001b[34mYour tweets saved to: /content/tweets-data/exportFile1.csv\u001b[39m\n",
            "\u001b[33mTotal tweets saved: 5\u001b[39m\n",
            "\u001b[90m[v2.6.1]\u001b[39m No more tweets found, please check your search criteria and csv file result\n",
            "\u001b[90m\u001b[39m\n",
            "\u001b[90m-- Scrolling... (1)\u001b[39m\u001b[90m (2)\u001b[39m\u001b[90m (3)\u001b[39m\u001b[90m (4)\u001b[39m\u001b[90m (5)\u001b[39m\u001b[90m (6)\u001b[39m\u001b[90m (7)\u001b[39m\u001b[90m (8)\u001b[39m\u001b[90m (9)\u001b[39m\u001b[90m (10)\u001b[39m\u001b[90m (11)\u001b[39m\u001b[90m (12)\u001b[39m\u001b[90m (13)\u001b[39m\u001b[90m (14)\u001b[39m\u001b[90m (15)\u001b[39m\u001b[90m (16)\u001b[39m\u001b[90m (17)\u001b[39m\u001b[90m (18)\u001b[39m\u001b[90m (19)\u001b[39m\u001b[90m (20)\u001b[39m\u001b[90m (21)\u001b[39m\u001b[33mNo more tweets found, please check your search criteria and csv file result\u001b[39m\n",
            "\u001b[33mTimeout reached 1 times, making sure again...\u001b[39m\n",
            "\u001b[90m\u001b[39m\n",
            "\u001b[90m-- Scrolling... (1)\u001b[39m\u001b[90m (2)\u001b[39m\u001b[90m (3)\u001b[39m\u001b[90m (4)\u001b[39m\u001b[90m (5)\u001b[39m\u001b[90m (6)\u001b[39m\u001b[90m (7)\u001b[39m\u001b[90m (8)\u001b[39m\u001b[90m (9)\u001b[39m\u001b[90m (10)\u001b[39m\u001b[90m (11)\u001b[39m\u001b[90m (12)\u001b[39m\u001b[90m (13)\u001b[39m\u001b[90m (14)\u001b[39m\u001b[90m (15)\u001b[39m\u001b[90m (16)\u001b[39m\u001b[90m (17)\u001b[39m\u001b[90m (18)\u001b[39m\u001b[90m (19)\u001b[39m\u001b[90m (20)\u001b[39m\u001b[90m (21)\u001b[39m\u001b[33mNo more tweets found, please check your search criteria and csv file result\u001b[39m\n",
            "\u001b[33mTimeout reached 2 times, making sure again...\u001b[39m\n",
            "\u001b[90m\u001b[39m\n",
            "\u001b[90m-- Scrolling... (1)\u001b[39m\u001b[90m (2)\u001b[39m\u001b[90m (3)\u001b[39m\u001b[90m (4)\u001b[39m\u001b[90m (5)\u001b[39m\u001b[90m (6)\u001b[39m\u001b[90m (7)\u001b[39m\u001b[90m (8)\u001b[39m\u001b[90m (9)\u001b[39m\u001b[90m (10)\u001b[39m\u001b[90m (11)\u001b[39m\u001b[90m (12)\u001b[39m\u001b[90m (13)\u001b[39m\u001b[90m (14)\u001b[39m\u001b[90m (15)\u001b[39m\u001b[90m (16)\u001b[39m\u001b[90m (17)\u001b[39m\u001b[90m (18)\u001b[39m\u001b[90m (19)\u001b[39m\u001b[90m (20)\u001b[39m\u001b[90m (21)\u001b[39m\u001b[33mNo more tweets found, please check your search criteria and csv file result\u001b[39m\n",
            "\u001b[33mTimeout reached 3 times, making sure again...\u001b[39m\n",
            "\u001b[90m\u001b[39m\n",
            "\u001b[90m-- Scrolling... (1)\u001b[39m\u001b[90m (2)\u001b[39m\u001b[90m (3)\u001b[39m\u001b[90m (4)\u001b[39m\u001b[90m (5)\u001b[39m\u001b[90m (6)\u001b[39m\u001b[90m (7)\u001b[39m\u001b[90m (8)\u001b[39m\u001b[90m (9)\u001b[39m\u001b[90m (10)\u001b[39m\u001b[90m (11)\u001b[39m\u001b[90m (12)\u001b[39m\u001b[90m (13)\u001b[39m\u001b[90m (14)\u001b[39m\u001b[90m (15)\u001b[39m\u001b[90m (16)\u001b[39m\u001b[90m (17)\u001b[39m\u001b[90m (18)\u001b[39m\u001b[90m (19)\u001b[39m\u001b[90m (20)\u001b[39mGot 5 tweets, done scrolling...\n",
            "\u001b[1G\u001b[0K⠙\u001b[1G\u001b[0K"
          ]
        }
      ],
      "source": [
        "filename = 'Scrapping.csv'\n",
        "search_keyword = 'satria mahatir lang:id'\n",
        "limit = 3000 \n",
        "\n",
        "!npx -y tweet-harvest@2.6.1 -o \"{filename}\" -s \"{search_keyword}\" --tab \"LATEST\" -l {limit} --token {twitter_auth_token}"
      ]
    },
    {
      "cell_type": "code",
      "execution_count": 16,
      "metadata": {
        "colab": {
          "base_uri": "https://localhost:8080/",
          "height": 843
        },
        "collapsed": true,
        "id": "HvAG3hPvQDqk",
        "outputId": "3d5260ab-a9a2-49ac-976d-c5a1938dfdf0"
      },
      "outputs": [
        {
          "data": {
            "text/html": [
              "<div>\n",
              "<style scoped>\n",
              "    .dataframe tbody tr th:only-of-type {\n",
              "        vertical-align: middle;\n",
              "    }\n",
              "\n",
              "    .dataframe tbody tr th {\n",
              "        vertical-align: top;\n",
              "    }\n",
              "\n",
              "    .dataframe thead th {\n",
              "        text-align: right;\n",
              "    }\n",
              "</style>\n",
              "<table border=\"1\" class=\"dataframe\">\n",
              "  <thead>\n",
              "    <tr style=\"text-align: right;\">\n",
              "      <th></th>\n",
              "      <th></th>\n",
              "      <th></th>\n",
              "      <th></th>\n",
              "      <th>conversation_id_str;created_at;favorite_count;full_text;id_str;image_url;in_reply_to_screen_name;lang;location;quote_count;reply_count;retweet_count;tweet_url;user_id_str;username</th>\n",
              "    </tr>\n",
              "  </thead>\n",
              "  <tbody>\n",
              "    <tr>\n",
              "      <th rowspan=\"11\" valign=\"top\">1</th>\n",
              "      <th>91E+18;Mon Apr 07 11:46:21 +0000 2025;0;@heathengangs Mulai membaikmi fashion sense mu mmg nda berkiblat di satria mahatir mi kuliat liat;1</th>\n",
              "      <th>91E+18;;heathengangs;in;Makassar</th>\n",
              "      <th>Indonesia;0;0;0;https://x.com/shutthevuckup/status/1909211137612366236;1</th>\n",
              "      <td>29E+18;shutthevuckup</td>\n",
              "    </tr>\n",
              "    <tr>\n",
              "      <th>91E+18;Mon Apr 07 06:23:34 +0000 2025;0;@chiseiyuu @21of12 dia satria mahatir ver jember cin;1</th>\n",
              "      <th>91E+18;;chiseiyuu;in;;0;0;0;https://x.com/iBegSasa/status/1909129906384236546;1</th>\n",
              "      <th>74E+18;iBegSasa</th>\n",
              "      <td>NaN</td>\n",
              "    </tr>\n",
              "    <tr>\n",
              "      <th>91E+18;Mon Apr 07 03:25:39 +0000 2025;0;@nativora @manukacaramel Udah di posting si satria mahatir;1</th>\n",
              "      <th>91E+18;;nativora;in;;0;0;0;https://x.com/s_rtlg/status/1909085134374220266;1862806514;s_rtlg</th>\n",
              "      <th>NaN</th>\n",
              "      <td>NaN</td>\n",
              "    </tr>\n",
              "    <tr>\n",
              "      <th>91E+18;Sun Apr 06 13:46:34 +0000 2025;0;knp sih dia demen bgt pake hoodie gaya satria mahatir https://t.co/xYtz1dEYem;1</th>\n",
              "      <th>91E+18;https://pbs.twimg.com/amplify_video_thumb/1908871932847726592/img/QCbNbGXop7tCS5Z3.jpg;;in;🐠🐈/🧸🐶/🐠🦦;0;1;0;https://x.com/taesankiri/status/1908879002976268553;1</th>\n",
              "      <th>79E+18;taesankiri</th>\n",
              "      <td>NaN</td>\n",
              "    </tr>\n",
              "    <tr>\n",
              "      <th>91E+18;Sun Apr 06 04:52:35 +0000 2025;0;@deduys kembaran satria mahatir ditolak sp yg ga kaget brok;1</th>\n",
              "      <th>91E+18;;deduys;in;bulan;0;0;0;https://x.com/rflyyprm_/status/1908744624514240967;1</th>\n",
              "      <th>63E+18;rflyyprm_</th>\n",
              "      <td>NaN</td>\n",
              "    </tr>\n",
              "    <tr>\n",
              "      <th>...</th>\n",
              "      <th>...</th>\n",
              "      <th>...</th>\n",
              "      <td>...</td>\n",
              "    </tr>\n",
              "    <tr>\n",
              "      <th>75E+18;Tue Jan 16 13:40:32 +0000 2024;0;@DrunkNotDrugs @maujaaddii mau ngikutin si cogil satria petir;1</th>\n",
              "      <th>75E+18;;DrunkNotDrugs;in;Bandung</th>\n",
              "      <th>Jawa Barat;0;0;0;https://x.com/_iceredvelvet/status/1747252496035364983;1</th>\n",
              "      <td>34E+18;_iceredvelvet</td>\n",
              "    </tr>\n",
              "    <tr>\n",
              "      <th>75E+18;Tue Jan 16 11:25:33 +0000 2024;0;Satria Mahathir 'Cogil' Bebas Nyanyang Harris Cabut Laporan #satriamahathir https://t.co/xASdvEufHT;1</th>\n",
              "      <th>75E+18;;;in;Batam</th>\n",
              "      <th>Kepri;0;0;0;https://x.com/tribunbatamku/status/1747218526597980171;1137364327;tribunbatamku</th>\n",
              "      <td>NaN</td>\n",
              "    </tr>\n",
              "    <tr>\n",
              "      <th>75E+18;Tue Jan 16 10:52:15 +0000 2024;0;I just saw baliho caleg yg mukanya mirip satria cogil with peci ;1</th>\n",
              "      <th>75E+18;;;in;Twitter;0;0;0;https://x.com/yea_imean/status/1747210149255930101;2299114795;yea_imean</th>\n",
              "      <th>NaN</th>\n",
              "      <td>NaN</td>\n",
              "    </tr>\n",
              "    <tr>\n",
              "      <th>75E+18;Tue Jan 16 04:41:45 +0000 2024;1;makin diliat2 video herjunot ali joget mirip si cogil satria mahathir ya..;1</th>\n",
              "      <th>75E+18;;;in;;0;0;0;https://x.com/dimpliecheek/status/1747116906388267069;1</th>\n",
              "      <th>03E+18;dimpliecheek</th>\n",
              "      <td>NaN</td>\n",
              "    </tr>\n",
              "    <tr>\n",
              "      <th>75E+18;Tue Jan 16 04:22:48 +0000 2024;0;@anatemasosial lek jare satria sorry ya aku mabok this is cogil ;1</th>\n",
              "      <th>75E+18;;anatemasosial;in;platja llevant</th>\n",
              "      <th>barcelona;0;0;0;https://x.com/kyungsoofisipol/status/1747112139217912129;1</th>\n",
              "      <td>29E+18;kyungsoofisipol</td>\n",
              "    </tr>\n",
              "  </tbody>\n",
              "</table>\n",
              "<p>3152 rows × 1 columns</p>\n",
              "</div>"
            ],
            "text/plain": [
              "                                                                                                                                                           conversation_id_str;created_at;favorite_count;full_text;id_str;image_url;in_reply_to_screen_name;lang;location;quote_count;reply_count;retweet_count;tweet_url;user_id_str;username\n",
              "1 91E+18;Mon Apr 07 11:46:21 +0000 2025;0;@heathe... 91E+18;;heathengangs;in;Makassar                    Indonesia;0;0;0;https://x.com/shutthevuckup/st...                               29E+18;shutthevuckup                                                                                                                                 \n",
              "  91E+18;Mon Apr 07 06:23:34 +0000 2025;0;@chisei... 91E+18;;chiseiyuu;in;;0;0;0;https://x.com/iBegS... 74E+18;iBegSasa                                                                                   NaN                                                                                                                                 \n",
              "  91E+18;Mon Apr 07 03:25:39 +0000 2025;0;@nativo... 91E+18;;nativora;in;;0;0;0;https://x.com/s_rtlg... NaN                                                                                               NaN                                                                                                                                 \n",
              "  91E+18;Sun Apr 06 13:46:34 +0000 2025;0;knp sih... 91E+18;https://pbs.twimg.com/amplify_video_thum... 79E+18;taesankiri                                                                                 NaN                                                                                                                                 \n",
              "  91E+18;Sun Apr 06 04:52:35 +0000 2025;0;@deduys... 91E+18;;deduys;in;bulan;0;0;0;https://x.com/rfl... 63E+18;rflyyprm_                                                                                  NaN                                                                                                                                 \n",
              "...                                                                                                                                                                                                       ...                                                                                                                                 \n",
              "  75E+18;Tue Jan 16 13:40:32 +0000 2024;0;@DrunkN... 75E+18;;DrunkNotDrugs;in;Bandung                    Jawa Barat;0;0;0;https://x.com/_iceredvelvet/s...                               34E+18;_iceredvelvet                                                                                                                                 \n",
              "  75E+18;Tue Jan 16 11:25:33 +0000 2024;0;Satria ... 75E+18;;;in;Batam                                   Kepri;0;0;0;https://x.com/tribunbatamku/status...                                                NaN                                                                                                                                 \n",
              "  75E+18;Tue Jan 16 10:52:15 +0000 2024;0;I just ... 75E+18;;;in;Twitter;0;0;0;https://x.com/yea_ime... NaN                                                                                               NaN                                                                                                                                 \n",
              "  75E+18;Tue Jan 16 04:41:45 +0000 2024;1;makin d... 75E+18;;;in;;0;0;0;https://x.com/dimpliecheek/s... 03E+18;dimpliecheek                                                                               NaN                                                                                                                                 \n",
              "  75E+18;Tue Jan 16 04:22:48 +0000 2024;0;@anatem... 75E+18;;anatemasosial;in;platja llevant             barcelona;0;0;0;https://x.com/kyungsoofisipol/...                             29E+18;kyungsoofisipol                                                                                                                                 \n",
              "\n",
              "[3152 rows x 1 columns]"
            ]
          },
          "metadata": {},
          "output_type": "display_data"
        }
      ],
      "source": [
        "import pandas as pd\n",
        "filename = 'Scrapping.csv'\n",
        "file_path = f\"{filename}\"\n",
        "df = pd.read_csv(file_path, delimiter=\",\", on_bad_lines='skip')\n",
        "display(df)"
      ]
    },
    {
      "cell_type": "code",
      "execution_count": 17,
      "metadata": {
        "colab": {
          "base_uri": "https://localhost:8080/"
        },
        "collapsed": true,
        "id": "eRfDl54waHC4",
        "outputId": "e112eb36-9ee3-464a-8b1e-840120ae3512"
      },
      "outputs": [
        {
          "name": "stdout",
          "output_type": "stream",
          "text": [
            "Jumlah tweet dalam dataframe adalah 3152.\n"
          ]
        }
      ],
      "source": [
        "num_tweets = len(df)\n",
        "print(f\"Jumlah tweet dalam dataframe adalah {num_tweets}.\")"
      ]
    }
  ],
  "metadata": {
    "colab": {
      "provenance": []
    },
    "kernelspec": {
      "display_name": "Python 3",
      "name": "python3"
    },
    "language_info": {
      "codemirror_mode": {
        "name": "ipython",
        "version": 3
      },
      "file_extension": ".py",
      "mimetype": "text/x-python",
      "name": "python",
      "nbconvert_exporter": "python",
      "pygments_lexer": "ipython3",
      "version": "3.10.4"
    }
  },
  "nbformat": 4,
  "nbformat_minor": 0
}
