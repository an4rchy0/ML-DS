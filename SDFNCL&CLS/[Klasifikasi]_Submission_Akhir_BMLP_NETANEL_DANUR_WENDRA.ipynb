{
  "cells": [
    {
      "cell_type": "markdown",
      "metadata": {
        "id": "fKADPWcFKlj3"
      },
      "source": [
        "# **1. Import Library**"
      ]
    },
    {
      "cell_type": "markdown",
      "metadata": {
        "id": "LgA3ERnVn84N"
      },
      "source": [
        "Pada tahap ini, Anda perlu mengimpor beberapa pustaka (library) Python yang dibutuhkan untuk analisis data dan pembangunan model machine learning."
      ]
    },
    {
      "cell_type": "code",
      "execution_count": 1,
      "metadata": {
        "id": "BlmvjLY9M4Yj"
      },
      "outputs": [],
      "source": [
        "import numpy as np\n",
        "import pandas as pd\n",
        "import matplotlib.pyplot as plt\n",
        "import seaborn as sns\n",
        "from sklearn.model_selection import train_test_split\n",
        "from sklearn.preprocessing import StandardScaler\n",
        "from sklearn.metrics import (classification_report, confusion_matrix, accuracy_score, f1_score, recall_score)\n",
        "from xgboost import XGBClassifier\n",
        "from sklearn.model_selection import GridSearchCV\n",
        "from sklearn.pipeline import Pipeline\n",
        "\n",
        "from sklearn.model_selection import train_test_split, GridSearchCV\n",
        "from sklearn.ensemble import RandomForestClassifier\n",
        "from sklearn.metrics import accuracy_score, classification_report, confusion_matrix"
      ]
    },
    {
      "cell_type": "markdown",
      "metadata": {
        "id": "f3YIEnAFKrKL"
      },
      "source": [
        "# **2. Memuat Dataset dari Hasil Clustering**"
      ]
    },
    {
      "cell_type": "markdown",
      "metadata": {
        "id": "Ey3ItwTen_7E"
      },
      "source": [
        "Memuat dataset hasil clustering dari file CSV ke dalam variabel DataFrame."
      ]
    },
    {
      "cell_type": "code",
      "execution_count": 3,
      "metadata": {
        "id": "GHCGNTyrM5fS"
      },
      "outputs": [
        {
          "name": "stdout",
          "output_type": "stream",
          "text": [
            "<class 'pandas.core.frame.DataFrame'>\n",
            "RangeIndex: 2394 entries, 0 to 2393\n",
            "Data columns (total 35 columns):\n",
            " #   Column                Non-Null Count  Dtype  \n",
            "---  ------                --------------  -----  \n",
            " 0   Caloric Value         2394 non-null   int64  \n",
            " 1   Fat                   2394 non-null   float64\n",
            " 2   Saturated Fats        2394 non-null   float64\n",
            " 3   Monounsaturated Fats  2394 non-null   float64\n",
            " 4   Polyunsaturated Fats  2394 non-null   float64\n",
            " 5   Carbohydrates         2394 non-null   float64\n",
            " 6   Sugars                2394 non-null   float64\n",
            " 7   Protein               2394 non-null   float64\n",
            " 8   Dietary Fiber         2394 non-null   float64\n",
            " 9   Cholesterol           2394 non-null   float64\n",
            " 10  Sodium                2394 non-null   float64\n",
            " 11  Water                 2394 non-null   float64\n",
            " 12  Vitamin A             2394 non-null   float64\n",
            " 13  Vitamin B1            2394 non-null   float64\n",
            " 14  Vitamin B11           2394 non-null   float64\n",
            " 15  Vitamin B12           2394 non-null   float64\n",
            " 16  Vitamin B2            2394 non-null   float64\n",
            " 17  Vitamin B3            2394 non-null   float64\n",
            " 18  Vitamin B5            2394 non-null   float64\n",
            " 19  Vitamin B6            2394 non-null   float64\n",
            " 20  Vitamin C             2394 non-null   float64\n",
            " 21  Vitamin D             2394 non-null   float64\n",
            " 22  Vitamin E             2394 non-null   float64\n",
            " 23  Vitamin K             2394 non-null   float64\n",
            " 24  Calcium               2394 non-null   float64\n",
            " 25  Copper                2394 non-null   float64\n",
            " 26  Iron                  2394 non-null   float64\n",
            " 27  Magnesium             2394 non-null   float64\n",
            " 28  Manganese             2394 non-null   float64\n",
            " 29  Phosphorus            2394 non-null   float64\n",
            " 30  Potassium             2394 non-null   float64\n",
            " 31  Selenium              2394 non-null   float64\n",
            " 32  Zinc                  2394 non-null   float64\n",
            " 33  Nutrition Density     2394 non-null   object \n",
            " 34  Cluster               2394 non-null   int64  \n",
            "dtypes: float64(32), int64(2), object(1)\n",
            "memory usage: 654.7+ KB\n",
            "None\n",
            "Cluster\n",
            "1    2103\n",
            "0     291\n",
            "Name: count, dtype: int64\n"
          ]
        },
        {
          "data": {
            "text/html": [
              "<div>\n",
              "<style scoped>\n",
              "    .dataframe tbody tr th:only-of-type {\n",
              "        vertical-align: middle;\n",
              "    }\n",
              "\n",
              "    .dataframe tbody tr th {\n",
              "        vertical-align: top;\n",
              "    }\n",
              "\n",
              "    .dataframe thead th {\n",
              "        text-align: right;\n",
              "    }\n",
              "</style>\n",
              "<table border=\"1\" class=\"dataframe\">\n",
              "  <thead>\n",
              "    <tr style=\"text-align: right;\">\n",
              "      <th></th>\n",
              "      <th>Caloric Value</th>\n",
              "      <th>Fat</th>\n",
              "      <th>Saturated Fats</th>\n",
              "      <th>Monounsaturated Fats</th>\n",
              "      <th>Polyunsaturated Fats</th>\n",
              "      <th>Carbohydrates</th>\n",
              "      <th>Sugars</th>\n",
              "      <th>Protein</th>\n",
              "      <th>Dietary Fiber</th>\n",
              "      <th>Cholesterol</th>\n",
              "      <th>...</th>\n",
              "      <th>Copper</th>\n",
              "      <th>Iron</th>\n",
              "      <th>Magnesium</th>\n",
              "      <th>Manganese</th>\n",
              "      <th>Phosphorus</th>\n",
              "      <th>Potassium</th>\n",
              "      <th>Selenium</th>\n",
              "      <th>Zinc</th>\n",
              "      <th>Nutrition Density</th>\n",
              "      <th>Cluster</th>\n",
              "    </tr>\n",
              "  </thead>\n",
              "  <tbody>\n",
              "    <tr>\n",
              "      <th>0</th>\n",
              "      <td>51</td>\n",
              "      <td>5.0</td>\n",
              "      <td>2.9</td>\n",
              "      <td>1.3</td>\n",
              "      <td>0.200</td>\n",
              "      <td>0.8</td>\n",
              "      <td>0.500</td>\n",
              "      <td>0.9</td>\n",
              "      <td>0.0</td>\n",
              "      <td>14.6</td>\n",
              "      <td>...</td>\n",
              "      <td>14.100</td>\n",
              "      <td>0.082</td>\n",
              "      <td>0.027</td>\n",
              "      <td>1.300</td>\n",
              "      <td>0.091</td>\n",
              "      <td>15.5</td>\n",
              "      <td>19.100</td>\n",
              "      <td>0.039</td>\n",
              "      <td>7.07</td>\n",
              "      <td>1</td>\n",
              "    </tr>\n",
              "    <tr>\n",
              "      <th>1</th>\n",
              "      <td>215</td>\n",
              "      <td>19.4</td>\n",
              "      <td>10.9</td>\n",
              "      <td>4.9</td>\n",
              "      <td>0.800</td>\n",
              "      <td>3.1</td>\n",
              "      <td>2.700</td>\n",
              "      <td>7.8</td>\n",
              "      <td>0.0</td>\n",
              "      <td>62.9</td>\n",
              "      <td>...</td>\n",
              "      <td>0.034</td>\n",
              "      <td>0.100</td>\n",
              "      <td>8.500</td>\n",
              "      <td>0.088</td>\n",
              "      <td>117.300</td>\n",
              "      <td>129.2</td>\n",
              "      <td>0.054</td>\n",
              "      <td>0.700</td>\n",
              "      <td>130.1</td>\n",
              "      <td>1</td>\n",
              "    </tr>\n",
              "    <tr>\n",
              "      <th>2</th>\n",
              "      <td>49</td>\n",
              "      <td>3.6</td>\n",
              "      <td>2.3</td>\n",
              "      <td>0.9</td>\n",
              "      <td>0.000</td>\n",
              "      <td>0.9</td>\n",
              "      <td>3.400</td>\n",
              "      <td>0.8</td>\n",
              "      <td>0.1</td>\n",
              "      <td>0.0</td>\n",
              "      <td>...</td>\n",
              "      <td>0.000</td>\n",
              "      <td>0.000</td>\n",
              "      <td>0.000</td>\n",
              "      <td>0.000</td>\n",
              "      <td>0.000</td>\n",
              "      <td>0.0</td>\n",
              "      <td>0.000</td>\n",
              "      <td>0.000</td>\n",
              "      <td>5.4</td>\n",
              "      <td>1</td>\n",
              "    </tr>\n",
              "    <tr>\n",
              "      <th>3</th>\n",
              "      <td>30</td>\n",
              "      <td>2.0</td>\n",
              "      <td>1.3</td>\n",
              "      <td>0.5</td>\n",
              "      <td>0.002</td>\n",
              "      <td>1.5</td>\n",
              "      <td>0.091</td>\n",
              "      <td>1.5</td>\n",
              "      <td>0.0</td>\n",
              "      <td>9.8</td>\n",
              "      <td>...</td>\n",
              "      <td>41.200</td>\n",
              "      <td>0.097</td>\n",
              "      <td>0.096</td>\n",
              "      <td>4.000</td>\n",
              "      <td>0.024</td>\n",
              "      <td>30.8</td>\n",
              "      <td>43.800</td>\n",
              "      <td>0.035</td>\n",
              "      <td>5.196</td>\n",
              "      <td>1</td>\n",
              "    </tr>\n",
              "    <tr>\n",
              "      <th>4</th>\n",
              "      <td>30</td>\n",
              "      <td>2.3</td>\n",
              "      <td>1.4</td>\n",
              "      <td>0.6</td>\n",
              "      <td>0.042</td>\n",
              "      <td>1.2</td>\n",
              "      <td>0.900</td>\n",
              "      <td>1.2</td>\n",
              "      <td>0.0</td>\n",
              "      <td>8.1</td>\n",
              "      <td>...</td>\n",
              "      <td>0.072</td>\n",
              "      <td>0.008</td>\n",
              "      <td>1.200</td>\n",
              "      <td>0.098</td>\n",
              "      <td>22.800</td>\n",
              "      <td>37.1</td>\n",
              "      <td>0.034</td>\n",
              "      <td>0.053</td>\n",
              "      <td>27.007</td>\n",
              "      <td>1</td>\n",
              "    </tr>\n",
              "  </tbody>\n",
              "</table>\n",
              "<p>5 rows × 35 columns</p>\n",
              "</div>"
            ],
            "text/plain": [
              "   Caloric Value   Fat  Saturated Fats  Monounsaturated Fats  \\\n",
              "0             51   5.0             2.9                   1.3   \n",
              "1            215  19.4            10.9                   4.9   \n",
              "2             49   3.6             2.3                   0.9   \n",
              "3             30   2.0             1.3                   0.5   \n",
              "4             30   2.3             1.4                   0.6   \n",
              "\n",
              "   Polyunsaturated Fats  Carbohydrates  Sugars  Protein  Dietary Fiber  \\\n",
              "0                 0.200            0.8   0.500      0.9            0.0   \n",
              "1                 0.800            3.1   2.700      7.8            0.0   \n",
              "2                 0.000            0.9   3.400      0.8            0.1   \n",
              "3                 0.002            1.5   0.091      1.5            0.0   \n",
              "4                 0.042            1.2   0.900      1.2            0.0   \n",
              "\n",
              "   Cholesterol  ...  Copper   Iron  Magnesium  Manganese  Phosphorus  \\\n",
              "0         14.6  ...  14.100  0.082      0.027      1.300       0.091   \n",
              "1         62.9  ...   0.034  0.100      8.500      0.088     117.300   \n",
              "2          0.0  ...   0.000  0.000      0.000      0.000       0.000   \n",
              "3          9.8  ...  41.200  0.097      0.096      4.000       0.024   \n",
              "4          8.1  ...   0.072  0.008      1.200      0.098      22.800   \n",
              "\n",
              "   Potassium  Selenium   Zinc  Nutrition Density  Cluster  \n",
              "0       15.5    19.100  0.039               7.07        1  \n",
              "1      129.2     0.054  0.700              130.1        1  \n",
              "2        0.0     0.000  0.000                5.4        1  \n",
              "3       30.8    43.800  0.035              5.196        1  \n",
              "4       37.1     0.034  0.053             27.007        1  \n",
              "\n",
              "[5 rows x 35 columns]"
            ]
          },
          "execution_count": 3,
          "metadata": {},
          "output_type": "execute_result"
        }
      ],
      "source": [
        "data = pd.read_csv('Dataset_inisiasi.csv')\n",
        "print(data.info())\n",
        "print(data['Cluster'].value_counts())\n",
        "data.head()"
      ]
    },
    {
      "cell_type": "markdown",
      "metadata": {
        "id": "KkPem5eWL2UP"
      },
      "source": [
        "# **3. Data Splitting**"
      ]
    },
    {
      "cell_type": "markdown",
      "metadata": {
        "id": "YYj1rl_JNI9Y"
      },
      "source": [
        "Tahap Data Splitting bertujuan untuk memisahkan dataset menjadi dua bagian: data latih (training set) dan data uji (test set)."
      ]
    },
    {
      "cell_type": "code",
      "execution_count": 13,
      "metadata": {
        "id": "OubAW-7ONKVj"
      },
      "outputs": [
        {
          "name": "stdout",
          "output_type": "stream",
          "text": [
            "Training set shape: (1675, 33)\n",
            "Test set shape: (719, 33)\n"
          ]
        }
      ],
      "source": [
        "X = data.drop(['Cluster', 'Nutrition Density'], axis=1)\n",
        "k=0.2\n",
        "y = data['Cluster']\n",
        "X_train, X_test, y_train, y_test = train_test_split(X, y, test_size=0.3, random_state=42, stratify=y)\n",
        "print(f\"Training set shape: {X_train.shape}\")\n",
        "print(f\"Test set shape: {X_test.shape}\")"
      ]
    },
    {
      "cell_type": "markdown",
      "metadata": {
        "id": "IVPbB03CMhTT"
      },
      "source": [
        "# **4. Membangun Model Klasifikasi**\n"
      ]
    },
    {
      "cell_type": "markdown",
      "metadata": {
        "id": "Ned1pL9zMmBK"
      },
      "source": [
        "## **a. Membangun Model Klasifikasi**"
      ]
    },
    {
      "cell_type": "markdown",
      "metadata": {
        "id": "WAWzPOE4Nkti"
      },
      "source": [
        "Setelah memilih algoritma klasifikasi yang sesuai, langkah selanjutnya adalah melatih model menggunakan data latih.\n",
        "\n",
        "Berikut adalah rekomendasi tahapannya.\n",
        "1. Pilih algoritma klasifikasi yang sesuai, seperti Logistic Regression, Decision Tree, Random Forest, atau K-Nearest Neighbors (KNN).\n",
        "2. Latih model menggunakan data latih."
      ]
    },
    {
      "cell_type": "code",
      "execution_count": 14,
      "metadata": {
        "id": "4JYxBe87NLDk"
      },
      "outputs": [
        {
          "data": {
            "text/html": [
              "<style>#sk-container-id-1 {\n",
              "  /* Definition of color scheme common for light and dark mode */\n",
              "  --sklearn-color-text: #000;\n",
              "  --sklearn-color-text-muted: #666;\n",
              "  --sklearn-color-line: gray;\n",
              "  /* Definition of color scheme for unfitted estimators */\n",
              "  --sklearn-color-unfitted-level-0: #fff5e6;\n",
              "  --sklearn-color-unfitted-level-1: #f6e4d2;\n",
              "  --sklearn-color-unfitted-level-2: #ffe0b3;\n",
              "  --sklearn-color-unfitted-level-3: chocolate;\n",
              "  /* Definition of color scheme for fitted estimators */\n",
              "  --sklearn-color-fitted-level-0: #f0f8ff;\n",
              "  --sklearn-color-fitted-level-1: #d4ebff;\n",
              "  --sklearn-color-fitted-level-2: #b3dbfd;\n",
              "  --sklearn-color-fitted-level-3: cornflowerblue;\n",
              "\n",
              "  /* Specific color for light theme */\n",
              "  --sklearn-color-text-on-default-background: var(--sg-text-color, var(--theme-code-foreground, var(--jp-content-font-color1, black)));\n",
              "  --sklearn-color-background: var(--sg-background-color, var(--theme-background, var(--jp-layout-color0, white)));\n",
              "  --sklearn-color-border-box: var(--sg-text-color, var(--theme-code-foreground, var(--jp-content-font-color1, black)));\n",
              "  --sklearn-color-icon: #696969;\n",
              "\n",
              "  @media (prefers-color-scheme: dark) {\n",
              "    /* Redefinition of color scheme for dark theme */\n",
              "    --sklearn-color-text-on-default-background: var(--sg-text-color, var(--theme-code-foreground, var(--jp-content-font-color1, white)));\n",
              "    --sklearn-color-background: var(--sg-background-color, var(--theme-background, var(--jp-layout-color0, #111)));\n",
              "    --sklearn-color-border-box: var(--sg-text-color, var(--theme-code-foreground, var(--jp-content-font-color1, white)));\n",
              "    --sklearn-color-icon: #878787;\n",
              "  }\n",
              "}\n",
              "\n",
              "#sk-container-id-1 {\n",
              "  color: var(--sklearn-color-text);\n",
              "}\n",
              "\n",
              "#sk-container-id-1 pre {\n",
              "  padding: 0;\n",
              "}\n",
              "\n",
              "#sk-container-id-1 input.sk-hidden--visually {\n",
              "  border: 0;\n",
              "  clip: rect(1px 1px 1px 1px);\n",
              "  clip: rect(1px, 1px, 1px, 1px);\n",
              "  height: 1px;\n",
              "  margin: -1px;\n",
              "  overflow: hidden;\n",
              "  padding: 0;\n",
              "  position: absolute;\n",
              "  width: 1px;\n",
              "}\n",
              "\n",
              "#sk-container-id-1 div.sk-dashed-wrapped {\n",
              "  border: 1px dashed var(--sklearn-color-line);\n",
              "  margin: 0 0.4em 0.5em 0.4em;\n",
              "  box-sizing: border-box;\n",
              "  padding-bottom: 0.4em;\n",
              "  background-color: var(--sklearn-color-background);\n",
              "}\n",
              "\n",
              "#sk-container-id-1 div.sk-container {\n",
              "  /* jupyter's `normalize.less` sets `[hidden] { display: none; }`\n",
              "     but bootstrap.min.css set `[hidden] { display: none !important; }`\n",
              "     so we also need the `!important` here to be able to override the\n",
              "     default hidden behavior on the sphinx rendered scikit-learn.org.\n",
              "     See: https://github.com/scikit-learn/scikit-learn/issues/21755 */\n",
              "  display: inline-block !important;\n",
              "  position: relative;\n",
              "}\n",
              "\n",
              "#sk-container-id-1 div.sk-text-repr-fallback {\n",
              "  display: none;\n",
              "}\n",
              "\n",
              "div.sk-parallel-item,\n",
              "div.sk-serial,\n",
              "div.sk-item {\n",
              "  /* draw centered vertical line to link estimators */\n",
              "  background-image: linear-gradient(var(--sklearn-color-text-on-default-background), var(--sklearn-color-text-on-default-background));\n",
              "  background-size: 2px 100%;\n",
              "  background-repeat: no-repeat;\n",
              "  background-position: center center;\n",
              "}\n",
              "\n",
              "/* Parallel-specific style estimator block */\n",
              "\n",
              "#sk-container-id-1 div.sk-parallel-item::after {\n",
              "  content: \"\";\n",
              "  width: 100%;\n",
              "  border-bottom: 2px solid var(--sklearn-color-text-on-default-background);\n",
              "  flex-grow: 1;\n",
              "}\n",
              "\n",
              "#sk-container-id-1 div.sk-parallel {\n",
              "  display: flex;\n",
              "  align-items: stretch;\n",
              "  justify-content: center;\n",
              "  background-color: var(--sklearn-color-background);\n",
              "  position: relative;\n",
              "}\n",
              "\n",
              "#sk-container-id-1 div.sk-parallel-item {\n",
              "  display: flex;\n",
              "  flex-direction: column;\n",
              "}\n",
              "\n",
              "#sk-container-id-1 div.sk-parallel-item:first-child::after {\n",
              "  align-self: flex-end;\n",
              "  width: 50%;\n",
              "}\n",
              "\n",
              "#sk-container-id-1 div.sk-parallel-item:last-child::after {\n",
              "  align-self: flex-start;\n",
              "  width: 50%;\n",
              "}\n",
              "\n",
              "#sk-container-id-1 div.sk-parallel-item:only-child::after {\n",
              "  width: 0;\n",
              "}\n",
              "\n",
              "/* Serial-specific style estimator block */\n",
              "\n",
              "#sk-container-id-1 div.sk-serial {\n",
              "  display: flex;\n",
              "  flex-direction: column;\n",
              "  align-items: center;\n",
              "  background-color: var(--sklearn-color-background);\n",
              "  padding-right: 1em;\n",
              "  padding-left: 1em;\n",
              "}\n",
              "\n",
              "\n",
              "/* Toggleable style: style used for estimator/Pipeline/ColumnTransformer box that is\n",
              "clickable and can be expanded/collapsed.\n",
              "- Pipeline and ColumnTransformer use this feature and define the default style\n",
              "- Estimators will overwrite some part of the style using the `sk-estimator` class\n",
              "*/\n",
              "\n",
              "/* Pipeline and ColumnTransformer style (default) */\n",
              "\n",
              "#sk-container-id-1 div.sk-toggleable {\n",
              "  /* Default theme specific background. It is overwritten whether we have a\n",
              "  specific estimator or a Pipeline/ColumnTransformer */\n",
              "  background-color: var(--sklearn-color-background);\n",
              "}\n",
              "\n",
              "/* Toggleable label */\n",
              "#sk-container-id-1 label.sk-toggleable__label {\n",
              "  cursor: pointer;\n",
              "  display: flex;\n",
              "  width: 100%;\n",
              "  margin-bottom: 0;\n",
              "  padding: 0.5em;\n",
              "  box-sizing: border-box;\n",
              "  text-align: center;\n",
              "  align-items: start;\n",
              "  justify-content: space-between;\n",
              "  gap: 0.5em;\n",
              "}\n",
              "\n",
              "#sk-container-id-1 label.sk-toggleable__label .caption {\n",
              "  font-size: 0.6rem;\n",
              "  font-weight: lighter;\n",
              "  color: var(--sklearn-color-text-muted);\n",
              "}\n",
              "\n",
              "#sk-container-id-1 label.sk-toggleable__label-arrow:before {\n",
              "  /* Arrow on the left of the label */\n",
              "  content: \"▸\";\n",
              "  float: left;\n",
              "  margin-right: 0.25em;\n",
              "  color: var(--sklearn-color-icon);\n",
              "}\n",
              "\n",
              "#sk-container-id-1 label.sk-toggleable__label-arrow:hover:before {\n",
              "  color: var(--sklearn-color-text);\n",
              "}\n",
              "\n",
              "/* Toggleable content - dropdown */\n",
              "\n",
              "#sk-container-id-1 div.sk-toggleable__content {\n",
              "  max-height: 0;\n",
              "  max-width: 0;\n",
              "  overflow: hidden;\n",
              "  text-align: left;\n",
              "  /* unfitted */\n",
              "  background-color: var(--sklearn-color-unfitted-level-0);\n",
              "}\n",
              "\n",
              "#sk-container-id-1 div.sk-toggleable__content.fitted {\n",
              "  /* fitted */\n",
              "  background-color: var(--sklearn-color-fitted-level-0);\n",
              "}\n",
              "\n",
              "#sk-container-id-1 div.sk-toggleable__content pre {\n",
              "  margin: 0.2em;\n",
              "  border-radius: 0.25em;\n",
              "  color: var(--sklearn-color-text);\n",
              "  /* unfitted */\n",
              "  background-color: var(--sklearn-color-unfitted-level-0);\n",
              "}\n",
              "\n",
              "#sk-container-id-1 div.sk-toggleable__content.fitted pre {\n",
              "  /* unfitted */\n",
              "  background-color: var(--sklearn-color-fitted-level-0);\n",
              "}\n",
              "\n",
              "#sk-container-id-1 input.sk-toggleable__control:checked~div.sk-toggleable__content {\n",
              "  /* Expand drop-down */\n",
              "  max-height: 200px;\n",
              "  max-width: 100%;\n",
              "  overflow: auto;\n",
              "}\n",
              "\n",
              "#sk-container-id-1 input.sk-toggleable__control:checked~label.sk-toggleable__label-arrow:before {\n",
              "  content: \"▾\";\n",
              "}\n",
              "\n",
              "/* Pipeline/ColumnTransformer-specific style */\n",
              "\n",
              "#sk-container-id-1 div.sk-label input.sk-toggleable__control:checked~label.sk-toggleable__label {\n",
              "  color: var(--sklearn-color-text);\n",
              "  background-color: var(--sklearn-color-unfitted-level-2);\n",
              "}\n",
              "\n",
              "#sk-container-id-1 div.sk-label.fitted input.sk-toggleable__control:checked~label.sk-toggleable__label {\n",
              "  background-color: var(--sklearn-color-fitted-level-2);\n",
              "}\n",
              "\n",
              "/* Estimator-specific style */\n",
              "\n",
              "/* Colorize estimator box */\n",
              "#sk-container-id-1 div.sk-estimator input.sk-toggleable__control:checked~label.sk-toggleable__label {\n",
              "  /* unfitted */\n",
              "  background-color: var(--sklearn-color-unfitted-level-2);\n",
              "}\n",
              "\n",
              "#sk-container-id-1 div.sk-estimator.fitted input.sk-toggleable__control:checked~label.sk-toggleable__label {\n",
              "  /* fitted */\n",
              "  background-color: var(--sklearn-color-fitted-level-2);\n",
              "}\n",
              "\n",
              "#sk-container-id-1 div.sk-label label.sk-toggleable__label,\n",
              "#sk-container-id-1 div.sk-label label {\n",
              "  /* The background is the default theme color */\n",
              "  color: var(--sklearn-color-text-on-default-background);\n",
              "}\n",
              "\n",
              "/* On hover, darken the color of the background */\n",
              "#sk-container-id-1 div.sk-label:hover label.sk-toggleable__label {\n",
              "  color: var(--sklearn-color-text);\n",
              "  background-color: var(--sklearn-color-unfitted-level-2);\n",
              "}\n",
              "\n",
              "/* Label box, darken color on hover, fitted */\n",
              "#sk-container-id-1 div.sk-label.fitted:hover label.sk-toggleable__label.fitted {\n",
              "  color: var(--sklearn-color-text);\n",
              "  background-color: var(--sklearn-color-fitted-level-2);\n",
              "}\n",
              "\n",
              "/* Estimator label */\n",
              "\n",
              "#sk-container-id-1 div.sk-label label {\n",
              "  font-family: monospace;\n",
              "  font-weight: bold;\n",
              "  display: inline-block;\n",
              "  line-height: 1.2em;\n",
              "}\n",
              "\n",
              "#sk-container-id-1 div.sk-label-container {\n",
              "  text-align: center;\n",
              "}\n",
              "\n",
              "/* Estimator-specific */\n",
              "#sk-container-id-1 div.sk-estimator {\n",
              "  font-family: monospace;\n",
              "  border: 1px dotted var(--sklearn-color-border-box);\n",
              "  border-radius: 0.25em;\n",
              "  box-sizing: border-box;\n",
              "  margin-bottom: 0.5em;\n",
              "  /* unfitted */\n",
              "  background-color: var(--sklearn-color-unfitted-level-0);\n",
              "}\n",
              "\n",
              "#sk-container-id-1 div.sk-estimator.fitted {\n",
              "  /* fitted */\n",
              "  background-color: var(--sklearn-color-fitted-level-0);\n",
              "}\n",
              "\n",
              "/* on hover */\n",
              "#sk-container-id-1 div.sk-estimator:hover {\n",
              "  /* unfitted */\n",
              "  background-color: var(--sklearn-color-unfitted-level-2);\n",
              "}\n",
              "\n",
              "#sk-container-id-1 div.sk-estimator.fitted:hover {\n",
              "  /* fitted */\n",
              "  background-color: var(--sklearn-color-fitted-level-2);\n",
              "}\n",
              "\n",
              "/* Specification for estimator info (e.g. \"i\" and \"?\") */\n",
              "\n",
              "/* Common style for \"i\" and \"?\" */\n",
              "\n",
              ".sk-estimator-doc-link,\n",
              "a:link.sk-estimator-doc-link,\n",
              "a:visited.sk-estimator-doc-link {\n",
              "  float: right;\n",
              "  font-size: smaller;\n",
              "  line-height: 1em;\n",
              "  font-family: monospace;\n",
              "  background-color: var(--sklearn-color-background);\n",
              "  border-radius: 1em;\n",
              "  height: 1em;\n",
              "  width: 1em;\n",
              "  text-decoration: none !important;\n",
              "  margin-left: 0.5em;\n",
              "  text-align: center;\n",
              "  /* unfitted */\n",
              "  border: var(--sklearn-color-unfitted-level-1) 1pt solid;\n",
              "  color: var(--sklearn-color-unfitted-level-1);\n",
              "}\n",
              "\n",
              ".sk-estimator-doc-link.fitted,\n",
              "a:link.sk-estimator-doc-link.fitted,\n",
              "a:visited.sk-estimator-doc-link.fitted {\n",
              "  /* fitted */\n",
              "  border: var(--sklearn-color-fitted-level-1) 1pt solid;\n",
              "  color: var(--sklearn-color-fitted-level-1);\n",
              "}\n",
              "\n",
              "/* On hover */\n",
              "div.sk-estimator:hover .sk-estimator-doc-link:hover,\n",
              ".sk-estimator-doc-link:hover,\n",
              "div.sk-label-container:hover .sk-estimator-doc-link:hover,\n",
              ".sk-estimator-doc-link:hover {\n",
              "  /* unfitted */\n",
              "  background-color: var(--sklearn-color-unfitted-level-3);\n",
              "  color: var(--sklearn-color-background);\n",
              "  text-decoration: none;\n",
              "}\n",
              "\n",
              "div.sk-estimator.fitted:hover .sk-estimator-doc-link.fitted:hover,\n",
              ".sk-estimator-doc-link.fitted:hover,\n",
              "div.sk-label-container:hover .sk-estimator-doc-link.fitted:hover,\n",
              ".sk-estimator-doc-link.fitted:hover {\n",
              "  /* fitted */\n",
              "  background-color: var(--sklearn-color-fitted-level-3);\n",
              "  color: var(--sklearn-color-background);\n",
              "  text-decoration: none;\n",
              "}\n",
              "\n",
              "/* Span, style for the box shown on hovering the info icon */\n",
              ".sk-estimator-doc-link span {\n",
              "  display: none;\n",
              "  z-index: 9999;\n",
              "  position: relative;\n",
              "  font-weight: normal;\n",
              "  right: .2ex;\n",
              "  padding: .5ex;\n",
              "  margin: .5ex;\n",
              "  width: min-content;\n",
              "  min-width: 20ex;\n",
              "  max-width: 50ex;\n",
              "  color: var(--sklearn-color-text);\n",
              "  box-shadow: 2pt 2pt 4pt #999;\n",
              "  /* unfitted */\n",
              "  background: var(--sklearn-color-unfitted-level-0);\n",
              "  border: .5pt solid var(--sklearn-color-unfitted-level-3);\n",
              "}\n",
              "\n",
              ".sk-estimator-doc-link.fitted span {\n",
              "  /* fitted */\n",
              "  background: var(--sklearn-color-fitted-level-0);\n",
              "  border: var(--sklearn-color-fitted-level-3);\n",
              "}\n",
              "\n",
              ".sk-estimator-doc-link:hover span {\n",
              "  display: block;\n",
              "}\n",
              "\n",
              "/* \"?\"-specific style due to the `<a>` HTML tag */\n",
              "\n",
              "#sk-container-id-1 a.estimator_doc_link {\n",
              "  float: right;\n",
              "  font-size: 1rem;\n",
              "  line-height: 1em;\n",
              "  font-family: monospace;\n",
              "  background-color: var(--sklearn-color-background);\n",
              "  border-radius: 1rem;\n",
              "  height: 1rem;\n",
              "  width: 1rem;\n",
              "  text-decoration: none;\n",
              "  /* unfitted */\n",
              "  color: var(--sklearn-color-unfitted-level-1);\n",
              "  border: var(--sklearn-color-unfitted-level-1) 1pt solid;\n",
              "}\n",
              "\n",
              "#sk-container-id-1 a.estimator_doc_link.fitted {\n",
              "  /* fitted */\n",
              "  border: var(--sklearn-color-fitted-level-1) 1pt solid;\n",
              "  color: var(--sklearn-color-fitted-level-1);\n",
              "}\n",
              "\n",
              "/* On hover */\n",
              "#sk-container-id-1 a.estimator_doc_link:hover {\n",
              "  /* unfitted */\n",
              "  background-color: var(--sklearn-color-unfitted-level-3);\n",
              "  color: var(--sklearn-color-background);\n",
              "  text-decoration: none;\n",
              "}\n",
              "\n",
              "#sk-container-id-1 a.estimator_doc_link.fitted:hover {\n",
              "  /* fitted */\n",
              "  background-color: var(--sklearn-color-fitted-level-3);\n",
              "}\n",
              "</style><div id=\"sk-container-id-1\" class=\"sk-top-container\"><div class=\"sk-text-repr-fallback\"><pre>RandomForestClassifier(random_state=42)</pre><b>In a Jupyter environment, please rerun this cell to show the HTML representation or trust the notebook. <br />On GitHub, the HTML representation is unable to render, please try loading this page with nbviewer.org.</b></div><div class=\"sk-container\" hidden><div class=\"sk-item\"><div class=\"sk-estimator fitted sk-toggleable\"><input class=\"sk-toggleable__control sk-hidden--visually\" id=\"sk-estimator-id-1\" type=\"checkbox\" checked><label for=\"sk-estimator-id-1\" class=\"sk-toggleable__label fitted sk-toggleable__label-arrow\"><div><div>RandomForestClassifier</div></div><div><a class=\"sk-estimator-doc-link fitted\" rel=\"noreferrer\" target=\"_blank\" href=\"https://scikit-learn.org/1.6/modules/generated/sklearn.ensemble.RandomForestClassifier.html\">?<span>Documentation for RandomForestClassifier</span></a><span class=\"sk-estimator-doc-link fitted\">i<span>Fitted</span></span></div></label><div class=\"sk-toggleable__content fitted\"><pre>RandomForestClassifier(random_state=42)</pre></div> </div></div></div></div>"
            ],
            "text/plain": [
              "RandomForestClassifier(random_state=42)"
            ]
          },
          "execution_count": 14,
          "metadata": {},
          "output_type": "execute_result"
        }
      ],
      "source": [
        "pipeline = Pipeline([\n",
        "    ('scaler', StandardScaler()),\n",
        "    ('xgb', XGBClassifier(random_state=42, eval_metric='mlogloss'))\n",
        "])\n",
        "pipeline.fit(X_train, y_train)\n",
        "y_pred = pipeline.predict(X_test)\n",
        "\n",
        "model2 = RandomForestClassifier(n_estimators=100, random_state=42)\n",
        "model2.fit(X_train, y_train)"
      ]
    },
    {
      "cell_type": "markdown",
      "metadata": {
        "id": "seYoHNY3XU1y"
      },
      "source": [
        "XGBoost (Extreme Gradient Boosting) adalah algoritma boosting berbasis pohon keputusan yang membangun model secara bertahap untuk memperbaiki kesalahan prediksi sebelumnya. Algoritma ini cepat, akurat, dan dilengkapi regularisasi untuk mengurangi overfitting. XGBoost juga efektif menangani fitur numerik, missing value, dan bekerja baik pada data kompleks.\n",
        "\n",
        "Random Forest merupakan algoritma berbasis pohon keputusan yang bekerja dengan membangun beberapa pohon keputusan secara acak dan menggabungkan hasilnya untuk meningkatkan akurasi dan mengurangi overfitting. Keuntungannya, kemampuan untuk menangani fitur numerik, robust terhadap outlier, dan bekerja dengan baik pada dataset dengan banyak fitur."
      ]
    },
    {
      "cell_type": "markdown",
      "metadata": {
        "id": "ergzChZFEL-O"
      },
      "source": [
        "## **b. Evaluasi Model Klasifikasi**"
      ]
    },
    {
      "cell_type": "markdown",
      "metadata": {
        "id": "zOm68u-7NpLT"
      },
      "source": [
        "Berikut adalah **rekomendasi** tahapannya.\n",
        "1. Lakukan prediksi menggunakan data uji.\n",
        "2. Hitung metrik evaluasi seperti Accuracy dan F1-Score (Opsional: Precision dan Recall).\n",
        "3. Buat confusion matrix untuk melihat detail prediksi benar dan salah."
      ]
    },
    {
      "cell_type": "code",
      "execution_count": 22,
      "metadata": {
        "id": "tMq4QAssNLip"
      },
      "outputs": [
        {
          "name": "stdout",
          "output_type": "stream",
          "text": [
            "XGBOOST\n",
            "==================\n",
            "Accuracy: 0.9777468706536857\n",
            "F1-Score (macro): 0.9471692567691685\n",
            "Recall (macro): 0.9427378873854213\n",
            "\n",
            "Classification Report:\n",
            "              precision    recall  f1-score   support\n",
            "\n",
            "           0       0.92      0.90      0.91        87\n",
            "           1       0.99      0.99      0.99       632\n",
            "\n",
            "    accuracy                           0.98       719\n",
            "   macro avg       0.95      0.94      0.95       719\n",
            "weighted avg       0.98      0.98      0.98       719\n",
            "\n"
          ]
        },
        {
          "data": {
            "image/png": "[encoded data removed]",
            "text/plain": [
              "<Figure size 1000x700 with 2 Axes>"
            ]
          },
          "metadata": {},
          "output_type": "display_data"
        }
      ],
      "source": [
        "print(\"XGBOOST\\n==================\\nAccuracy:\", accuracy_score(y_test, y_pred))\n",
        "print(\"F1-Score (macro):\", f1_score(y_test, y_pred, average='macro'))\n",
        "print(\"Recall (macro):\", recall_score(y_test, y_pred, average='macro'))\n",
        "print(\"\\nClassification Report:\")\n",
        "print(classification_report(y_test, y_pred))\n",
        "plt.figure(figsize=(10,7))\n",
        "sns.heatmap(confusion_matrix(y_test, y_pred), annot=True, fmt='d', cmap='Blues')\n",
        "plt.title('Confusion Matrix XGBoost')\n",
        "plt.xlabel('Predicted')\n",
        "plt.ylabel('Actual')\n",
        "plt.show()"
      ]
    },
    {
      "cell_type": "code",
      "execution_count": 23,
      "metadata": {},
      "outputs": [
        {
          "name": "stdout",
          "output_type": "stream",
          "text": [
            "Random Forest\n",
            "===============================================================\n",
            "Akurasi: 0.9833101529902643\n",
            "F1-Score (macro): 0.9599740211542029\n",
            "Recall (macro): 0.9508584315437218\n",
            "\n",
            "Classification Report:\n",
            "               precision    recall  f1-score   support\n",
            "\n",
            "           0       0.95      0.91      0.93        87\n",
            "           1       0.99      0.99      0.99       632\n",
            "\n",
            "    accuracy                           0.98       719\n",
            "   macro avg       0.97      0.95      0.96       719\n",
            "weighted avg       0.98      0.98      0.98       719\n",
            "\n"
          ]
        },
        {
          "data": {
            "image/png": "[encoded data removed]",
            "text/plain": [
              "<Figure size 800x600 with 2 Axes>"
            ]
          },
          "metadata": {},
          "output_type": "display_data"
        }
      ],
      "source": [
        "print(\"Random Forest\\n===============================================================\")\n",
        "y_pred2 = model2.predict(X_test)\n",
        "print(\"Akurasi:\", accuracy_score(y_test, y_pred2))\n",
        "print(\"F1-Score (macro):\", f1_score(y_test, y_pred2, average='macro'))\n",
        "print(\"Recall (macro):\", recall_score(y_test, y_pred2, average='macro'))\n",
        "print(\"\\nClassification Report:\\n\", classification_report(y_test, y_pred2))\n",
        "plt.figure(figsize=(8, 6))\n",
        "sns.heatmap(confusion_matrix(y_test, y_pred2), annot=True, fmt='d', cmap='Blues')\n",
        "plt.xlabel(\"Predicted Random Forest\")\n",
        "plt.ylabel(\"Actual\")\n",
        "plt.title(\"Confusion Matrix\")\n",
        "plt.show()"
      ]
    },
    {
      "cell_type": "markdown",
      "metadata": {
        "id": "H4_9OwrsXZlz"
      },
      "source": [
        "Tulis hasil evaluasi algoritma yang digunakan, jika Anda menggunakan 2 algoritma, maka bandingkan hasilnya.\n",
        "- XGBoost: Model XGBoost memberikan performa klasifikasi yang sangat tinggi dengan keseimbangan precision dan recall yang bagus, terutama pada data yang tidak seimbang. \n",
        "* - Kelebihan : \n",
        "* - - Terbukti dari hasil evaluasi (accuracy ~97.77%, F1-score ~0.95), XGBoost memberikan prediksi yang sangat akurat, bahkan pada data dengan distribusi kelas yang tidak seimbang.\n",
        "* - - Kemampuan Generalisasi yang Baik, Model tidak hanya akurat pada kelas mayoritas, tapi juga cukup baik menangani kelas minoritas (precision & recall kelas 0 masing-masing 0.92 dan 0.90).\n",
        "* - - Menangani Overfitting dengan Baik, XGBoost memiliki built-in regularization (L1 dan L2) yang membantu mencegah overfitting, terutama pada dataset yang kompleks.\n",
        "* - - Handling Missing Values, XGBoost mampu menangani nilai yang hilang tanpa preprocessing tambahan.\n",
        "* - - Skalabilitas, Cepat untuk dataset besar karena menggunakan optimasi paralel dan cache-aware.\n",
        "* - Kekurangan : \n",
        "* - - Kompleksitas Model, Cukup sulit untuk diinterpretasikan jika dibandingkan dengan model seperti decision tree tunggal atau logistic regression. Kurang cocok jika interpretasi model sangat penting.\n",
        "* - - Waktu Training Lebih Lama, Meskipun cepat dibandingkan boosting biasa, tetap lebih lambat dibanding model sederhana seperti Logistic Regression atau Decision Tree — terutama jika jumlah data dan fitur sangat besar.\n",
        "* - - Butuh Hyperparameter Tuning, Agar hasil optimal, XGBoost membutuhkan penyesuaian hyperparameter (seperti max_depth, learning_rate, n_estimators, dll) yang bisa memakan waktu.\n",
        "* - - Sensitif terhadap Skala Fitur (relatif), Meskipun tidak se-sensitif SVM atau k-NN, model ini tetap mendapat manfaat dari scaling fitur, seperti yang kamu lakukan dengan StandardScaler.\n",
        "\n",
        "- Random Forest: Model Random Forest menunjukkan performa klasifikasi yang sangat tinggi dan stabil pada data uji: \n",
        "* - Kelebihan : \n",
        "* - - Akurasi Tinggi & Stabil, Akurasi model sangat baik (98.33%), dan F1-score macro mencapai 0.96 — menunjukkan model konsisten menangani kedua kelas.\n",
        "* - - Robust terhadap Overfitting, Dengan membangun banyak pohon dan melakukan voting, Random Forest cenderung tidak overfit seperti pohon keputusan tunggal.\n",
        "* - - Mampu Menangani Data Tidak Seimbang, Terbukti mampu memprediksi kelas minoritas (kelas 0) cukup baik, dengan recall 0.91 dan precision 0.95.\n",
        "* - - Tidak Perlu Banyak Preprocessing, Tidak sensitif terhadap skala data, tidak memerlukan normalisasi atau standar deviasi (meskipun tetap bisa membantu).\n",
        "* - - Mendeteksi Pentingnya Fitur, Random Forest menyediakan feature importance bawaan, berguna untuk interpretasi dan reduksi dimensi.\n",
        "* - Kekurangan : \n",
        "* - - Kurang Interpretatif, Meskipun lebih mudah dibanding XGBoost, struktur model masih kompleks untuk ditafsirkan secara langsung (karena banyak pohon).\n",
        "* - - Lebih Lambat untuk Prediksi Real-Time, Karena harus menggabungkan hasil dari banyak pohon, prediksi bisa lebih lambat dibandingkan model sederhana.\n",
        "* - - Kurang Optimal untuk Dataset Sangat Besar, Untuk dataset dengan jutaan baris, Random Forest bisa lebih berat dari segi memori dan waktu dibanding model lain seperti XGBoost yang lebih efisien.\n",
        "* - - Bisa Terlalu Berat Jika Tanpa Tuning, Default-nya sudah cukup bagus, tapi untuk performa maksimal tetap butuh penyesuaian jumlah pohon (n_estimators), kedalaman pohon (max_depth), dsb.\n",
        "\n",
        "Random Forest dan XGBoost sama-sama menunjukkan performa yang sangat tinggi, namun keduanya memiliki keunggulan masing-masing. Random Forest unggul dari sisi stabilitas, kesederhanaan penggunaan, dan ketahanan terhadap overfitting tanpa banyak tuning. Sementara itu, XGBoost sering kali memberikan akurasi yang sangat kompetitif dengan keunggulan dalam menangani data besar dan kompleks melalui teknik boosting yang lebih agresif, meskipun lebih sensitif terhadap hyperparameter dan membutuhkan tuning lebih cermat untuk hasil optimal."
      ]
    },
    {
      "cell_type": "markdown",
      "metadata": {
        "id": "ph9yIYDXEPuB"
      },
      "source": [
        "## **c. Tuning Model Klasifikasi (Optional)**"
      ]
    },
    {
      "cell_type": "markdown",
      "metadata": {
        "id": "-Bikx3LINv5e"
      },
      "source": [
        "Gunakan GridSearchCV, RandomizedSearchCV, atau metode lainnya untuk mencari kombinasi hyperparameter terbaik"
      ]
    },
    {
      "cell_type": "code",
      "execution_count": null,
      "metadata": {
        "id": "winbFzb8NL95"
      },
      "outputs": [],
      "source": []
    },
    {
      "cell_type": "markdown",
      "metadata": {
        "id": "hE7pqlEPEYzI"
      },
      "source": [
        "## **d. Evaluasi Model Klasifikasi setelah Tuning (Optional)**"
      ]
    },
    {
      "cell_type": "markdown",
      "metadata": {
        "id": "feaPESoeN0zz"
      },
      "source": [
        "Berikut adalah rekomendasi tahapannya.\n",
        "1. Gunakan model dengan hyperparameter terbaik.\n",
        "2. Hitung ulang metrik evaluasi untuk melihat apakah ada peningkatan performa."
      ]
    },
    {
      "cell_type": "code",
      "execution_count": null,
      "metadata": {
        "id": "HTXZRvEeNMb1"
      },
      "outputs": [],
      "source": []
    },
    {
      "cell_type": "markdown",
      "metadata": {
        "id": "ZRsOdm4uEgAW"
      },
      "source": [
        "## **e. Analisis Hasil Evaluasi Model Klasifikasi**"
      ]
    },
    {
      "cell_type": "markdown",
      "metadata": {
        "id": "Hm3BhSi6N4_l"
      },
      "source": [
        "Berikut adalah **rekomendasi** tahapannya.\n",
        "1. Bandingkan hasil evaluasi sebelum dan setelah tuning (jika dilakukan).\n",
        "2. Identifikasi kelemahan model, seperti:\n",
        "  - Precision atau Recall rendah untuk kelas tertentu.\n",
        "  - Apakah model mengalami overfitting atau underfitting?\n",
        "3. Berikan rekomendasi tindakan lanjutan, seperti mengumpulkan data tambahan atau mencoba algoritma lain jika hasil belum memuaskan."
      ]
    },
    {
      "cell_type": "code",
      "execution_count": 28,
      "metadata": {},
      "outputs": [
        {
          "name": "stdout",
          "output_type": "stream",
          "text": [
            "Baseline Model XGBoost Performance:\n",
            "Akurasi Training: 1.0\n",
            "Akurasi Testing:: 0.9777468706536857\n",
            "\n",
            "Baseline Model RandomForest Performance:\n",
            "Akurasi Training: 1.0\n",
            "Akurasi Testing: 0.9833101529902643\n",
            "Cross-validation accuracy scores: [0.97077244 0.98956159 0.9874739  0.9874739  0.97280335]\n",
            "Mean accuracy: 0.9816170368882172\n"
          ]
        }
      ],
      "source": [
        "y_train_pred_base = pipeline.predict(X_train)\n",
        "y_test_pred_base = pipeline.predict(X_test)\n",
        "\n",
        "print(\"Baseline Model XGBoost Performance:\")\n",
        "print(\"Akurasi Training:\", accuracy_score(y_train, y_train_pred_base))\n",
        "print(\"Akurasi Testing::\", accuracy_score(y_test, y_test_pred_base))\n",
        "\n",
        "print(\"\\nBaseline Model RandomForest Performance:\")\n",
        "print(\"Akurasi Training:\", accuracy_score(y_train, model2.predict(X_train)))\n",
        "print(\"Akurasi Testing:\", accuracy_score(y_test, y_pred2))\n",
        "\n",
        "from sklearn.model_selection import cross_val_score\n",
        "\n",
        "cv_scores = cross_val_score(model2, X, y, cv=5, scoring='accuracy')\n",
        "print(\"Cross-validation accuracy scores:\", cv_scores)\n",
        "print(\"Mean accuracy:\", cv_scores.mean())"
      ]
    },
    {
      "cell_type": "markdown",
      "metadata": {},
      "source": [
        "Berdasarkan hasil evaluasi terhadap algoritma XGBoost dan Random Forest, dapat disimpulkan bahwa performa kedua model sudah sangat baik, ditunjukkan oleh nilai akurasi dan F1-score yang tinggi pada data pengujian. Namun, sepertinya adanya indikasi overfitting pada data pelatihan, disarankan untuk melakukan penyempurnaan model melalui penerapan teknik *validasi silang, penyesuaian hyperparameter, atau penambahan regularisasi guna meningkatkan kemampuan generalisasi model*. Apabila model ini akan digunakan untuk implementasi pada data dunia nyata, pengumpulan data tambahan dari sumber yang lebih beragam juga direkomendasikan agar model lebih robust terhadap variasi karakteristik data."
      ]
    }
  ],
  "metadata": {
    "colab": {
      "provenance": []
    },
    "kernelspec": {
      "display_name": "Python 3",
      "name": "python3"
    },
    "language_info": {
      "codemirror_mode": {
        "name": "ipython",
        "version": 3
      },
      "file_extension": ".py",
      "mimetype": "text/x-python",
      "name": "python",
      "nbconvert_exporter": "python",
      "pygments_lexer": "ipython3",
      "version": "3.10.4"
    }
  },
  "nbformat": 4,
  "nbformat_minor": 0
}
