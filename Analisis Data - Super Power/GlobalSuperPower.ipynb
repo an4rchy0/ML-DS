{
 "cells": [
  {
   "cell_type": "code",
   "execution_count": null,
   "metadata": {},
   "outputs": [],
   "source": [
    "import pandas as pd\n",
    "\n",
    "try:\n",
    "    df = pd.read_excel('./Data/Global_Superstore2.xlsx', sheet_name='Sheet1')\n",
    "    print(df)\n",
    "except Exception as e:\n",
    "    print(e)"
   ]
  },
  {
   "cell_type": "code",
   "execution_count": null,
   "metadata": {},
   "outputs": [],
   "source": [
    "missing_values = df.isnull().sum()\n",
    "print(missing_values)"
   ]
  },
  {
   "cell_type": "code",
   "execution_count": null,
   "metadata": {},
   "outputs": [],
   "source": [
    "if 'Sales' in df.columns:\n",
    "    # Melakukan pengurutan berdasarkan kolom 'Sales%'\n",
    "    df = df.sort_values(by='Sales')\n",
    "    # Menampilkan DataFrame setelah diurutkan\n",
    "    print(df)\n",
    "else:\n",
    "    print(\"Kolom 'Sales%' tidak ditemukan dalam DataFrame.\")"
   ]
  }
 ],
 "metadata": {
  "kernelspec": {
   "display_name": "Python 3",
   "language": "python",
   "name": "python3"
  },
  "language_info": {
   "codemirror_mode": {
    "name": "ipython",
    "version": 3
   },
   "file_extension": ".py",
   "mimetype": "text/x-python",
   "name": "python",
   "nbconvert_exporter": "python",
   "pygments_lexer": "ipython3",
   "version": "3.10.4"
  }
 },
 "nbformat": 4,
 "nbformat_minor": 2
}
